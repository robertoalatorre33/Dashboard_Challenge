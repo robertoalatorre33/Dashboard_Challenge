{
 "cells": [
  {
   "cell_type": "markdown",
   "id": "06815743-e785-4bfb-b30b-2c91e4b29c14",
   "metadata": {
    "jp-MarkdownHeadingCollapsed": true
   },
   "source": [
    "## Load relevant packages and tools for analysis"
   ]
  },
  {
   "cell_type": "code",
   "execution_count": 116,
   "id": "39d90644-e70b-4425-845f-a8c5d4db2737",
   "metadata": {},
   "outputs": [],
   "source": [
    "### Load relevant packages\n",
    "import pandas as pd\n",
    "import sqlite3\n",
    "import csv"
   ]
  },
  {
   "cell_type": "code",
   "execution_count": 112,
   "id": "6521553b-f317-4c20-bf12-362a2f1f1c0a",
   "metadata": {
    "scrolled": true
   },
   "outputs": [
    {
     "name": "stdout",
     "output_type": "stream",
     "text": [
      "Requirement already satisfied: ipython-sql in /Library/Frameworks/Python.framework/Versions/3.10/lib/python3.10/site-packages (0.5.0)\n",
      "Requirement already satisfied: prettytable in /Library/Frameworks/Python.framework/Versions/3.10/lib/python3.10/site-packages (from ipython-sql) (3.8.0)\n",
      "Requirement already satisfied: ipython in /Library/Frameworks/Python.framework/Versions/3.10/lib/python3.10/site-packages (from ipython-sql) (8.14.0)\n",
      "Requirement already satisfied: sqlalchemy>=2.0 in /Library/Frameworks/Python.framework/Versions/3.10/lib/python3.10/site-packages (from ipython-sql) (2.0.19)\n",
      "Requirement already satisfied: sqlparse in /Library/Frameworks/Python.framework/Versions/3.10/lib/python3.10/site-packages (from ipython-sql) (0.4.4)\n",
      "Requirement already satisfied: six in /Library/Frameworks/Python.framework/Versions/3.10/lib/python3.10/site-packages (from ipython-sql) (1.16.0)\n",
      "Requirement already satisfied: ipython-genutils in /Library/Frameworks/Python.framework/Versions/3.10/lib/python3.10/site-packages (from ipython-sql) (0.2.0)\n",
      "Requirement already satisfied: typing-extensions>=4.2.0 in /Library/Frameworks/Python.framework/Versions/3.10/lib/python3.10/site-packages (from sqlalchemy>=2.0->ipython-sql) (4.7.1)\n",
      "Requirement already satisfied: greenlet!=0.4.17 in /Library/Frameworks/Python.framework/Versions/3.10/lib/python3.10/site-packages (from sqlalchemy>=2.0->ipython-sql) (2.0.2)\n",
      "Requirement already satisfied: backcall in /Library/Frameworks/Python.framework/Versions/3.10/lib/python3.10/site-packages (from ipython->ipython-sql) (0.2.0)\n",
      "Requirement already satisfied: decorator in /Library/Frameworks/Python.framework/Versions/3.10/lib/python3.10/site-packages (from ipython->ipython-sql) (5.1.1)\n",
      "Requirement already satisfied: jedi>=0.16 in /Library/Frameworks/Python.framework/Versions/3.10/lib/python3.10/site-packages (from ipython->ipython-sql) (0.19.0)\n",
      "Requirement already satisfied: matplotlib-inline in /Library/Frameworks/Python.framework/Versions/3.10/lib/python3.10/site-packages (from ipython->ipython-sql) (0.1.6)\n",
      "Requirement already satisfied: pickleshare in /Library/Frameworks/Python.framework/Versions/3.10/lib/python3.10/site-packages (from ipython->ipython-sql) (0.7.5)\n",
      "Requirement already satisfied: prompt-toolkit!=3.0.37,<3.1.0,>=3.0.30 in /Library/Frameworks/Python.framework/Versions/3.10/lib/python3.10/site-packages (from ipython->ipython-sql) (3.0.39)\n",
      "Requirement already satisfied: pygments>=2.4.0 in /Library/Frameworks/Python.framework/Versions/3.10/lib/python3.10/site-packages (from ipython->ipython-sql) (2.15.1)\n",
      "Requirement already satisfied: stack-data in /Library/Frameworks/Python.framework/Versions/3.10/lib/python3.10/site-packages (from ipython->ipython-sql) (0.6.2)\n",
      "Requirement already satisfied: traitlets>=5 in /Library/Frameworks/Python.framework/Versions/3.10/lib/python3.10/site-packages (from ipython->ipython-sql) (5.9.0)\n",
      "Requirement already satisfied: pexpect>4.3 in /Library/Frameworks/Python.framework/Versions/3.10/lib/python3.10/site-packages (from ipython->ipython-sql) (4.8.0)\n",
      "Requirement already satisfied: appnope in /Library/Frameworks/Python.framework/Versions/3.10/lib/python3.10/site-packages (from ipython->ipython-sql) (0.1.3)\n",
      "Requirement already satisfied: wcwidth in /Library/Frameworks/Python.framework/Versions/3.10/lib/python3.10/site-packages (from prettytable->ipython-sql) (0.2.6)\n",
      "Requirement already satisfied: parso<0.9.0,>=0.8.3 in /Library/Frameworks/Python.framework/Versions/3.10/lib/python3.10/site-packages (from jedi>=0.16->ipython->ipython-sql) (0.8.3)\n",
      "Requirement already satisfied: ptyprocess>=0.5 in /Library/Frameworks/Python.framework/Versions/3.10/lib/python3.10/site-packages (from pexpect>4.3->ipython->ipython-sql) (0.7.0)\n",
      "Requirement already satisfied: executing>=1.2.0 in /Library/Frameworks/Python.framework/Versions/3.10/lib/python3.10/site-packages (from stack-data->ipython->ipython-sql) (1.2.0)\n",
      "Requirement already satisfied: asttokens>=2.1.0 in /Library/Frameworks/Python.framework/Versions/3.10/lib/python3.10/site-packages (from stack-data->ipython->ipython-sql) (2.2.1)\n",
      "Requirement already satisfied: pure-eval in /Library/Frameworks/Python.framework/Versions/3.10/lib/python3.10/site-packages (from stack-data->ipython->ipython-sql) (0.2.2)\n"
     ]
    }
   ],
   "source": [
    "!pip install ipython-sql"
   ]
  },
  {
   "cell_type": "code",
   "execution_count": 113,
   "id": "5c90e0a0-ae56-40a9-8ebb-e6d27809933a",
   "metadata": {},
   "outputs": [],
   "source": [
    "# Connecting to database \n",
    "conn = sqlite3.connect('hr_data_database2.db')"
   ]
  },
  {
   "cell_type": "code",
   "execution_count": 114,
   "id": "91d692a4-8a74-487c-ae63-91b067f09508",
   "metadata": {},
   "outputs": [
    {
     "name": "stdout",
     "output_type": "stream",
     "text": [
      "The sql extension is already loaded. To reload it, use:\n",
      "  %reload_ext sql\n"
     ]
    }
   ],
   "source": [
    "# Load the SQL extension to execute SQL commands in this notebook cell\n",
    "%load_ext sql"
   ]
  },
  {
   "cell_type": "code",
   "execution_count": 115,
   "id": "d2c69556-5948-4ca6-af7d-037bf63e3a78",
   "metadata": {},
   "outputs": [],
   "source": [
    "# Connect to the SQLite database named 'hr_database.db'\n",
    "%sql sqlite:///hr_data_database2.db"
   ]
  },
  {
   "cell_type": "markdown",
   "id": "d5dd0871-0d5e-45c3-b901-02d517538fd5",
   "metadata": {},
   "source": [
    "## Understanding the Profile of the Organization"
   ]
  },
  {
   "cell_type": "markdown",
   "id": "b1c1b440-7462-4825-b1e1-ec873cdba9c2",
   "metadata": {},
   "source": [
    "#### Key KPIs of the Organization\n",
    "Overall, the presented KPIs reveal a workforce that generally appears engaged and satisfied, contributing to a positive organizational environment. However, the relatively high attrition rate should be carefully managed to retain valuable talent and sustain growth. Further investigation into factors influencing attrition, along with continuous monitoring and strategic interventions, will be essential for organizational success."
   ]
  },
  {
   "cell_type": "code",
   "execution_count": 110,
   "id": "c2d95936-fa8a-4bfc-bcc4-4c390f455245",
   "metadata": {},
   "outputs": [
    {
     "name": "stdout",
     "output_type": "stream",
     "text": [
      "   sqlite:///hr_data_database.db\n",
      " * sqlite:///hr_data_database2.db\n",
      "Done.\n"
     ]
    },
    {
     "data": {
      "text/html": [
       "<table>\n",
       "    <thead>\n",
       "        <tr>\n",
       "            <th>total_cost_in_mil</th>\n",
       "            <th>total_employees</th>\n",
       "            <th>avg_salary</th>\n",
       "            <th>avg_engmt_scor</th>\n",
       "            <th>avg_empsatisfaction</th>\n",
       "            <th>avg_specialprojects</th>\n",
       "            <th>avg_perf_scor</th>\n",
       "            <th>avg_tenure</th>\n",
       "            <th>attrition_rate</th>\n",
       "        </tr>\n",
       "    </thead>\n",
       "    <tbody>\n",
       "        <tr>\n",
       "            <td>$21.0M</td>\n",
       "            <td>311</td>\n",
       "            <td>$69.0k</td>\n",
       "            <td>4.11</td>\n",
       "            <td>3.89</td>\n",
       "            <td>1.22</td>\n",
       "            <td>2.98</td>\n",
       "            <td>7.36</td>\n",
       "            <td>33.44%</td>\n",
       "        </tr>\n",
       "    </tbody>\n",
       "</table>"
      ],
      "text/plain": [
       "[('$21.0M', 311, '$69.0k', 4.11, 3.89, 1.22, 2.98, 7.36, '33.44%')]"
      ]
     },
     "execution_count": 110,
     "metadata": {},
     "output_type": "execute_result"
    }
   ],
   "source": [
    "%%sql\n",
    "\n",
    "SELECT \n",
    "    '$' || ROUND(SUM(salary) / 1000000, 0) || 'M' as total_cost_in_mil,\n",
    "    COUNT(*) AS total_employees,\n",
    "    '$' || ROUND(AVG(salary)/1000, 1) || 'k' AS avg_salary,\n",
    "    ROUND(AVG(engagementsurvey), 2) AS avg_engmt_scor,\n",
    "    ROUND(AVG(empsatisfaction), 2) AS avg_empsatisfaction,\n",
    "    ROUND(AVG(specialprojectscount), 2) AS avg_specialprojects,\n",
    "    ROUND(AVG(perfscore_ID), 2) AS avg_perf_scor,\n",
    "    ROUND(AVG(Tenure),2) AS avg_tenure,\n",
    "    ROUND(SUM(CASE WHEN DateofTermination IS NOT NULL THEN 1 ELSE 0 END) * 100.0 / COUNT(*), 2) || '%' AS attrition_rate\n",
    "FROM \n",
    "    HR_Dataset;"
   ]
  },
  {
   "cell_type": "markdown",
   "id": "24e67651-3f06-4148-b722-3068c1b79ef2",
   "metadata": {},
   "source": [
    "### Gender Breakdown of Organization\n",
    "\n",
    "The analysis of employee distribution by gender sheds light on the gender composition within the organization. The dataset reflects a gender distribution where female employees constitute 56.6% of the workforce, while male employees make up 43.4%. This distribution signifies a significant representation of both genders within the organization."
   ]
  },
  {
   "cell_type": "code",
   "execution_count": 108,
   "id": "779d6e54-8cbf-44e5-97ab-fe3cd390edcd",
   "metadata": {},
   "outputs": [
    {
     "name": "stdout",
     "output_type": "stream",
     "text": [
      "   sqlite:///hr_data_database.db\n",
      " * sqlite:///hr_data_database2.db\n",
      "Done.\n"
     ]
    },
    {
     "data": {
      "text/html": [
       "<table>\n",
       "    <thead>\n",
       "        <tr>\n",
       "            <th>Sex</th>\n",
       "            <th>Total_Employees</th>\n",
       "            <th>Percentage</th>\n",
       "        </tr>\n",
       "    </thead>\n",
       "    <tbody>\n",
       "        <tr>\n",
       "            <td>F</td>\n",
       "            <td>176</td>\n",
       "            <td>56.6%</td>\n",
       "        </tr>\n",
       "        <tr>\n",
       "            <td>M </td>\n",
       "            <td>135</td>\n",
       "            <td>43.4%</td>\n",
       "        </tr>\n",
       "    </tbody>\n",
       "</table>"
      ],
      "text/plain": [
       "[('F', 176, '56.6%'), ('M ', 135, '43.4%')]"
      ]
     },
     "execution_count": 108,
     "metadata": {},
     "output_type": "execute_result"
    }
   ],
   "source": [
    "%%sql\n",
    "\n",
    "SELECT\n",
    "    Sex,\n",
    "    COUNT(*) AS Total_Employees,\n",
    "    ROUND(COUNT(*) * 100.0 / (SELECT COUNT(*) FROM HR_Dataset), 1) || '%' AS Percentage\n",
    "FROM\n",
    "    HR_Dataset\n",
    "GROUP BY\n",
    "    Sex\n",
    "ORDER BY\n",
    "    Sex;"
   ]
  },
  {
   "cell_type": "markdown",
   "id": "25aacedd-1ab3-4ccf-8ef8-048e78ff9026",
   "metadata": {},
   "source": [
    "#### Race / Ethnicty Breakdown of Organization\n",
    "\n",
    "The analysis provides insights into the diversity landscape within the organization. The organization exhibits a diverse workforce with representation from multiple racial backgrounds, including Black or African American, White, Asian, and others. While the dataset reflects positive diversity efforts, there are certain demographics, such as American Indian or Alaska Native and Hispanic, with lower representation. Identifying and addressing potential barriers to equitable representation for these groups will be important for fostering a more inclusive workplace."
   ]
  },
  {
   "cell_type": "code",
   "execution_count": 107,
   "id": "bb3edf8f-5deb-4a13-9796-e2fc75a40c17",
   "metadata": {},
   "outputs": [
    {
     "name": "stdout",
     "output_type": "stream",
     "text": [
      "   sqlite:///hr_data_database.db\n",
      " * sqlite:///hr_data_database2.db\n",
      "Done.\n"
     ]
    },
    {
     "data": {
      "text/html": [
       "<table>\n",
       "    <thead>\n",
       "        <tr>\n",
       "            <th>RaceDesc</th>\n",
       "            <th>Total_Employees</th>\n",
       "            <th>Percentage</th>\n",
       "        </tr>\n",
       "    </thead>\n",
       "    <tbody>\n",
       "        <tr>\n",
       "            <td>American Indian or Alaska Native</td>\n",
       "            <td>3</td>\n",
       "            <td>1.0%</td>\n",
       "        </tr>\n",
       "        <tr>\n",
       "            <td>Asian</td>\n",
       "            <td>29</td>\n",
       "            <td>9.3%</td>\n",
       "        </tr>\n",
       "        <tr>\n",
       "            <td>Black or African American</td>\n",
       "            <td>80</td>\n",
       "            <td>25.7%</td>\n",
       "        </tr>\n",
       "        <tr>\n",
       "            <td>Hispanic</td>\n",
       "            <td>1</td>\n",
       "            <td>0.3%</td>\n",
       "        </tr>\n",
       "        <tr>\n",
       "            <td>Two or more races</td>\n",
       "            <td>11</td>\n",
       "            <td>3.5%</td>\n",
       "        </tr>\n",
       "        <tr>\n",
       "            <td>White</td>\n",
       "            <td>187</td>\n",
       "            <td>60.1%</td>\n",
       "        </tr>\n",
       "    </tbody>\n",
       "</table>"
      ],
      "text/plain": [
       "[('American Indian or Alaska Native', 3, '1.0%'),\n",
       " ('Asian', 29, '9.3%'),\n",
       " ('Black or African American', 80, '25.7%'),\n",
       " ('Hispanic', 1, '0.3%'),\n",
       " ('Two or more races', 11, '3.5%'),\n",
       " ('White', 187, '60.1%')]"
      ]
     },
     "execution_count": 107,
     "metadata": {},
     "output_type": "execute_result"
    }
   ],
   "source": [
    "%%sql\n",
    "\n",
    "SELECT\n",
    "    RaceDesc,\n",
    "    COUNT(*) AS Total_Employees,\n",
    "    ROUND(COUNT(*) * 100.0 / (SELECT COUNT(*) FROM HR_Dataset), 1) || '%' AS Percentage\n",
    "FROM\n",
    "    HR_Dataset\n",
    "GROUP BY\n",
    "    RaceDesc\n",
    "ORDER BY\n",
    "    RaceDesc;"
   ]
  },
  {
   "cell_type": "markdown",
   "id": "18f9c596-2345-4028-8aa2-afa5d034f0b0",
   "metadata": {},
   "source": [
    "## Can we predict who is going to terminate and who isn't?"
   ]
  },
  {
   "cell_type": "markdown",
   "id": "700d8690-609a-4805-9d0f-e302a213b96b",
   "metadata": {},
   "source": [
    "#### Terminated vs Non-Terminated Employees Metrics\n",
    "Overall, the data suggests that \"Not Terminated\" employees tend to have higher average salaries, engagement scores, performance scores, tenure, less absences, and have worked on more special projects compared to terminated employees. However, the difference in most of these metrics is relatively small, indicating that various factors contribute to both groups' characteristics."
   ]
  },
  {
   "cell_type": "code",
   "execution_count": 21,
   "id": "6945dd0f-90c3-41db-8b89-6af61b211b25",
   "metadata": {
    "scrolled": true
   },
   "outputs": [
    {
     "name": "stdout",
     "output_type": "stream",
     "text": [
      " * sqlite:///hr_data_database.db\n",
      "Done.\n"
     ]
    },
    {
     "data": {
      "text/html": [
       "<table>\n",
       "    <thead>\n",
       "        <tr>\n",
       "            <th>employee_status</th>\n",
       "            <th>avg_salary_thousands</th>\n",
       "            <th>avg_engmt_scor</th>\n",
       "            <th>avg_empsatisfaction</th>\n",
       "            <th>avg_specialprojects</th>\n",
       "            <th>avg_perf_scor</th>\n",
       "            <th>avg_tenure</th>\n",
       "            <th>avg_absences</th>\n",
       "        </tr>\n",
       "    </thead>\n",
       "    <tbody>\n",
       "        <tr>\n",
       "            <td>Not Terminated</td>\n",
       "            <td>$70.7K</td>\n",
       "            <td>4.12</td>\n",
       "            <td>3.89</td>\n",
       "            <td>1.46</td>\n",
       "            <td>3.02</td>\n",
       "            <td>9.46</td>\n",
       "            <td>9.83</td>\n",
       "        </tr>\n",
       "        <tr>\n",
       "            <td>Terminated</td>\n",
       "            <td>$65.7K</td>\n",
       "            <td>4.09</td>\n",
       "            <td>3.88</td>\n",
       "            <td>0.73</td>\n",
       "            <td>2.88</td>\n",
       "            <td>3.08</td>\n",
       "            <td>11.05</td>\n",
       "        </tr>\n",
       "    </tbody>\n",
       "</table>"
      ],
      "text/plain": [
       "[('Not Terminated', '$70.7K', 4.12, 3.89, 1.46, 3.02, 9.46, 9.83),\n",
       " ('Terminated', '$65.7K', 4.09, 3.88, 0.73, 2.88, 3.08, 11.05)]"
      ]
     },
     "execution_count": 21,
     "metadata": {},
     "output_type": "execute_result"
    }
   ],
   "source": [
    "%%sql\n",
    "\n",
    "SELECT \n",
    "    'Terminated' AS employee_status,\n",
    "    '$' || ROUND(AVG(CASE WHEN dateoftermination IS NOT NULL THEN salary ELSE NULL END) / 1000, 1) || 'K' as avg_salary_thousands,\n",
    "    ROUND(AVG(CASE WHEN dateoftermination IS NOT NULL THEN engagementsurvey ELSE NULL END), 2) AS avg_engmt_scor,\n",
    "    ROUND(AVG(CASE WHEN dateoftermination IS NOT NULL THEN empsatisfaction ELSE NULL END), 2) AS avg_empsatisfaction,\n",
    "    ROUND(AVG(CASE WHEN dateoftermination IS NOT NULL THEN specialprojectscount ELSE NULL END), 2) AS avg_specialprojects,\n",
    "    ROUND(AVG(CASE WHEN dateoftermination IS NOT NULL THEN perfscore_ID ELSE NULL END), 2) AS avg_perf_scor,\n",
    "    ROUND(AVG(CASE WHEN dateoftermination IS NOT NULL THEN tenure ELSE NULL END), 2) AS avg_tenure,\n",
    "    ROUND(AVG(CASE WHEN dateoftermination IS NOT NULL THEN absences ELSE NULL END), 2) AS avg_absences\n",
    "    \n",
    "FROM HR_Dataset\n",
    "\n",
    "UNION\n",
    "\n",
    "SELECT \n",
    "    'Not Terminated' AS employee_status,\n",
    "    '$' || ROUND(AVG(CASE WHEN dateoftermination IS NULL THEN salary ELSE NULL END) / 1000, 1) || 'K' as avg_salary_thousands,\n",
    "    ROUND(AVG(CASE WHEN dateoftermination IS NULL THEN engagementsurvey ELSE NULL END), 2) AS avg_engmt_scor,\n",
    "    ROUND(AVG(CASE WHEN dateoftermination IS NULL THEN empsatisfaction ELSE NULL END), 2) AS avg_empsatisfaction,\n",
    "    ROUND(AVG(CASE WHEN dateoftermination IS NULL THEN specialprojectscount ELSE NULL END), 2) AS avg_specialprojects,\n",
    "    ROUND(AVG(CASE WHEN dateoftermination IS NULL THEN perfscore_ID ELSE NULL END), 2) AS avg_perf_scor,\n",
    "    ROUND(AVG(CASE WHEN dateoftermination IS NULL THEN tenure ELSE NULL END), 2) AS avg_tenure,\n",
    "    ROUND(AVG(CASE WHEN dateoftermination IS NULL THEN absences ELSE NULL END), 2) AS avg_absences\n",
    "    \n",
    "FROM HR_Dataset;"
   ]
  },
  {
   "cell_type": "markdown",
   "id": "d60fa69e-26f8-4f31-bf0a-f28513341aea",
   "metadata": {},
   "source": [
    "## Is there any relationship between who a person works for and their performance score?"
   ]
  },
  {
   "cell_type": "markdown",
   "id": "78dbd575-6c41-4911-8312-5713ce7c81cc",
   "metadata": {},
   "source": [
    "#### Metric evaluation by Manager\n",
    "Overall, the analysis provides insights into the relationships between various managerial metrics. Managers with higher engagement scores often have better performance scores and higher employee satisfaction, which could contribute to lower attrition rates. Managers with lower performance scores might benefit from strategies to improve employee engagement and satisfaction to potentially enhance their team's performance and reduce turnover.\n"
   ]
  },
  {
   "cell_type": "code",
   "execution_count": 77,
   "id": "b2196019-479b-4867-8825-d2545418c1c6",
   "metadata": {
    "scrolled": true
   },
   "outputs": [
    {
     "name": "stdout",
     "output_type": "stream",
     "text": [
      "   sqlite:///hr_data_database.db\n",
      " * sqlite:///hr_data_database2.db\n",
      "Done.\n"
     ]
    },
    {
     "data": {
      "text/html": [
       "<table>\n",
       "    <thead>\n",
       "        <tr>\n",
       "            <th>ManagerName</th>\n",
       "            <th>total_emp</th>\n",
       "            <th>avg_perf_scor</th>\n",
       "            <th>avg_engmt_scor</th>\n",
       "            <th>avg_empsatisfaction</th>\n",
       "            <th>attrition_rate</th>\n",
       "        </tr>\n",
       "    </thead>\n",
       "    <tbody>\n",
       "        <tr>\n",
       "            <td>Debra Houlihan</td>\n",
       "            <td>3</td>\n",
       "            <td>2.67</td>\n",
       "            <td>3.84</td>\n",
       "            <td>4.33</td>\n",
       "            <td>0.33</td>\n",
       "        </tr>\n",
       "        <tr>\n",
       "            <td>John Smith</td>\n",
       "            <td>14</td>\n",
       "            <td>2.71</td>\n",
       "            <td>3.79</td>\n",
       "            <td>3.93</td>\n",
       "            <td>0.21</td>\n",
       "        </tr>\n",
       "        <tr>\n",
       "            <td>Lynn Daneault</td>\n",
       "            <td>13</td>\n",
       "            <td>2.85</td>\n",
       "            <td>3.8</td>\n",
       "            <td>4.08</td>\n",
       "            <td>0.08</td>\n",
       "        </tr>\n",
       "        <tr>\n",
       "            <td>Michael Albert</td>\n",
       "            <td>22</td>\n",
       "            <td>2.86</td>\n",
       "            <td>4.07</td>\n",
       "            <td>4.05</td>\n",
       "            <td>0.41</td>\n",
       "        </tr>\n",
       "        <tr>\n",
       "            <td>Peter Monroe</td>\n",
       "            <td>14</td>\n",
       "            <td>2.86</td>\n",
       "            <td>4.03</td>\n",
       "            <td>3.93</td>\n",
       "            <td>0.07</td>\n",
       "        </tr>\n",
       "        <tr>\n",
       "            <td>Amy Dunn</td>\n",
       "            <td>21</td>\n",
       "            <td>2.9</td>\n",
       "            <td>3.92</td>\n",
       "            <td>3.81</td>\n",
       "            <td>0.62</td>\n",
       "        </tr>\n",
       "        <tr>\n",
       "            <td>Brannon Miller</td>\n",
       "            <td>22</td>\n",
       "            <td>2.91</td>\n",
       "            <td>4.04</td>\n",
       "            <td>3.41</td>\n",
       "            <td>0.27</td>\n",
       "        </tr>\n",
       "        <tr>\n",
       "            <td>Kissy Sullivan</td>\n",
       "            <td>22</td>\n",
       "            <td>2.95</td>\n",
       "            <td>4.04</td>\n",
       "            <td>3.91</td>\n",
       "            <td>0.55</td>\n",
       "        </tr>\n",
       "        <tr>\n",
       "            <td>Board of Directors</td>\n",
       "            <td>2</td>\n",
       "            <td>3.0</td>\n",
       "            <td>4.92</td>\n",
       "            <td>3.0</td>\n",
       "            <td>0.0</td>\n",
       "        </tr>\n",
       "        <tr>\n",
       "            <td>Brandon R. LeBlanc</td>\n",
       "            <td>7</td>\n",
       "            <td>3.0</td>\n",
       "            <td>4.35</td>\n",
       "            <td>3.57</td>\n",
       "            <td>0.29</td>\n",
       "        </tr>\n",
       "        <tr>\n",
       "            <td>Brian Champaigne</td>\n",
       "            <td>8</td>\n",
       "            <td>3.0</td>\n",
       "            <td>4.06</td>\n",
       "            <td>4.0</td>\n",
       "            <td>0.0</td>\n",
       "        </tr>\n",
       "        <tr>\n",
       "            <td>David Stanley</td>\n",
       "            <td>21</td>\n",
       "            <td>3.0</td>\n",
       "            <td>4.15</td>\n",
       "            <td>3.95</td>\n",
       "            <td>0.29</td>\n",
       "        </tr>\n",
       "        <tr>\n",
       "            <td>Elijiah Gray</td>\n",
       "            <td>22</td>\n",
       "            <td>3.0</td>\n",
       "            <td>4.07</td>\n",
       "            <td>3.95</td>\n",
       "            <td>0.36</td>\n",
       "        </tr>\n",
       "        <tr>\n",
       "            <td>Webster Butler</td>\n",
       "            <td>21</td>\n",
       "            <td>3.0</td>\n",
       "            <td>4.33</td>\n",
       "            <td>4.05</td>\n",
       "            <td>0.62</td>\n",
       "        </tr>\n",
       "        <tr>\n",
       "            <td>Ketsia Liebig</td>\n",
       "            <td>21</td>\n",
       "            <td>3.05</td>\n",
       "            <td>4.05</td>\n",
       "            <td>4.1</td>\n",
       "            <td>0.24</td>\n",
       "        </tr>\n",
       "        <tr>\n",
       "            <td>Kelley Spirea</td>\n",
       "            <td>22</td>\n",
       "            <td>3.09</td>\n",
       "            <td>4.48</td>\n",
       "            <td>3.82</td>\n",
       "            <td>0.27</td>\n",
       "        </tr>\n",
       "        <tr>\n",
       "            <td>Alex Sweetwater</td>\n",
       "            <td>9</td>\n",
       "            <td>3.11</td>\n",
       "            <td>4.08</td>\n",
       "            <td>4.22</td>\n",
       "            <td>0.33</td>\n",
       "        </tr>\n",
       "        <tr>\n",
       "            <td>Janet King</td>\n",
       "            <td>19</td>\n",
       "            <td>3.11</td>\n",
       "            <td>4.18</td>\n",
       "            <td>3.63</td>\n",
       "            <td>0.32</td>\n",
       "        </tr>\n",
       "        <tr>\n",
       "            <td>Simon Roup</td>\n",
       "            <td>17</td>\n",
       "            <td>3.12</td>\n",
       "            <td>4.23</td>\n",
       "            <td>3.82</td>\n",
       "            <td>0.47</td>\n",
       "        </tr>\n",
       "        <tr>\n",
       "            <td>Jennifer Zamora</td>\n",
       "            <td>7</td>\n",
       "            <td>3.14</td>\n",
       "            <td>3.99</td>\n",
       "            <td>4.29</td>\n",
       "            <td>0.14</td>\n",
       "        </tr>\n",
       "        <tr>\n",
       "            <td>Eric Dougall</td>\n",
       "            <td>4</td>\n",
       "            <td>3.25</td>\n",
       "            <td>4.59</td>\n",
       "            <td>3.5</td>\n",
       "            <td>0.0</td>\n",
       "        </tr>\n",
       "    </tbody>\n",
       "</table>"
      ],
      "text/plain": [
       "[('Debra Houlihan', 3, 2.67, 3.84, 4.33, 0.33),\n",
       " ('John Smith', 14, 2.71, 3.79, 3.93, 0.21),\n",
       " ('Lynn Daneault', 13, 2.85, 3.8, 4.08, 0.08),\n",
       " ('Michael Albert', 22, 2.86, 4.07, 4.05, 0.41),\n",
       " ('Peter Monroe', 14, 2.86, 4.03, 3.93, 0.07),\n",
       " ('Amy Dunn', 21, 2.9, 3.92, 3.81, 0.62),\n",
       " ('Brannon Miller', 22, 2.91, 4.04, 3.41, 0.27),\n",
       " ('Kissy Sullivan', 22, 2.95, 4.04, 3.91, 0.55),\n",
       " ('Board of Directors', 2, 3.0, 4.92, 3.0, 0.0),\n",
       " ('Brandon R. LeBlanc', 7, 3.0, 4.35, 3.57, 0.29),\n",
       " ('Brian Champaigne', 8, 3.0, 4.06, 4.0, 0.0),\n",
       " ('David Stanley', 21, 3.0, 4.15, 3.95, 0.29),\n",
       " ('Elijiah Gray', 22, 3.0, 4.07, 3.95, 0.36),\n",
       " ('Webster Butler', 21, 3.0, 4.33, 4.05, 0.62),\n",
       " ('Ketsia Liebig', 21, 3.05, 4.05, 4.1, 0.24),\n",
       " ('Kelley Spirea', 22, 3.09, 4.48, 3.82, 0.27),\n",
       " ('Alex Sweetwater', 9, 3.11, 4.08, 4.22, 0.33),\n",
       " ('Janet King', 19, 3.11, 4.18, 3.63, 0.32),\n",
       " ('Simon Roup', 17, 3.12, 4.23, 3.82, 0.47),\n",
       " ('Jennifer Zamora', 7, 3.14, 3.99, 4.29, 0.14),\n",
       " ('Eric Dougall', 4, 3.25, 4.59, 3.5, 0.0)]"
      ]
     },
     "execution_count": 77,
     "metadata": {},
     "output_type": "execute_result"
    }
   ],
   "source": [
    "%%sql\n",
    "\n",
    "SELECT\n",
    "    ManagerName,\n",
    "    COUNT(*) AS total_emp,\n",
    "    ROUND(AVG(perfscore_ID),2) AS avg_perf_scor,\n",
    "    ROUND(AVG(engagementsurvey),2) AS avg_engmt_scor,\n",
    "    ROUND(AVG(empsatisfaction),2) AS avg_emp_satisfaction,\n",
    "    ROUND(SUM(CASE WHEN dateoftermination IS NOT NULL THEN 1 ELSE 0 END) * 1.0 / COUNT(*),2) AS attrition_rate\n",
    "\n",
    "FROM\n",
    "    HR_Dataset\n",
    "GROUP BY\n",
    "    ManagerName\n",
    "ORDER BY \n",
    "    Avg_perf_scor;"
   ]
  },
  {
   "cell_type": "markdown",
   "id": "d7e139d8-a59b-4235-ac38-ac92437b3362",
   "metadata": {},
   "source": [
    "## Are there areas of the company where pay is not equitable?"
   ]
  },
  {
   "cell_type": "markdown",
   "id": "1e868f95-004b-4395-aa9e-adf5aadea81f",
   "metadata": {},
   "source": [
    "### Average Salaries by Gender and Department \n",
    "\n",
    "The analysis presented insightful patterns in compensation across diverse organizational units. While certain departments demonstrate marginally higher average salaries for males and others for females, these differences are influenced by multifaceted factors beyond gender. Standout disparities in departments like \"IT/IS,\" \"Sales,\" and \"Software Engineering\" underscore the necessity for thorough investigations into compensation practices to ensure parity in remuneration regardless of gender. This serves as an initial step, urging the pursuit of comprehensive analyses and proactive strategies to cultivate authentic pay equity within departments.\n"
   ]
  },
  {
   "cell_type": "code",
   "execution_count": 66,
   "id": "74cbdfc0-d98d-4bfb-a1d5-c6f333e71e0d",
   "metadata": {
    "scrolled": true
   },
   "outputs": [
    {
     "name": "stdout",
     "output_type": "stream",
     "text": [
      "   sqlite:///hr_data_database.db\n",
      " * sqlite:///hr_data_database2.db\n",
      "Done.\n"
     ]
    },
    {
     "data": {
      "text/html": [
       "<table>\n",
       "    <thead>\n",
       "        <tr>\n",
       "            <th>Department</th>\n",
       "            <th>Male_Avg_Salary</th>\n",
       "            <th>Female_Avg_Salary</th>\n",
       "        </tr>\n",
       "    </thead>\n",
       "    <tbody>\n",
       "        <tr>\n",
       "            <td>Admin Offices</td>\n",
       "            <td>$73.5k</td>\n",
       "            <td>$70.9k</td>\n",
       "        </tr>\n",
       "        <tr>\n",
       "            <td>Executive Office</td>\n",
       "            <td>None</td>\n",
       "            <td>$250.0k</td>\n",
       "        </tr>\n",
       "        <tr>\n",
       "            <td>IT/IS</td>\n",
       "            <td>$99.0k</td>\n",
       "            <td>$94.6k</td>\n",
       "        </tr>\n",
       "        <tr>\n",
       "            <td>Production       </td>\n",
       "            <td>$60.5k</td>\n",
       "            <td>$59.6k</td>\n",
       "        </tr>\n",
       "        <tr>\n",
       "            <td>Sales</td>\n",
       "            <td>$66.3k</td>\n",
       "            <td>$72.0k</td>\n",
       "        </tr>\n",
       "        <tr>\n",
       "            <td>Software Engineering</td>\n",
       "            <td>$92.7k</td>\n",
       "            <td>$96.9k</td>\n",
       "        </tr>\n",
       "    </tbody>\n",
       "</table>"
      ],
      "text/plain": [
       "[('Admin Offices', '$73.5k', '$70.9k'),\n",
       " ('Executive Office', None, '$250.0k'),\n",
       " ('IT/IS', '$99.0k', '$94.6k'),\n",
       " ('Production       ', '$60.5k', '$59.6k'),\n",
       " ('Sales', '$66.3k', '$72.0k'),\n",
       " ('Software Engineering', '$92.7k', '$96.9k')]"
      ]
     },
     "execution_count": 66,
     "metadata": {},
     "output_type": "execute_result"
    }
   ],
   "source": [
    "%%sql\n",
    "\n",
    "SELECT\n",
    "    Department,\n",
    "    '$' || ROUND(AVG(CASE WHEN Sex = 'M ' THEN avg_salary END) / 1000, 1) || 'k' AS Male_Avg_Salary,\n",
    "    '$' || ROUND(AVG(CASE WHEN Sex = 'F' THEN avg_salary END) / 1000, 1) || 'k' AS Female_Avg_Salary\n",
    "FROM\n",
    "    (SELECT\n",
    "        Department,\n",
    "        Sex,\n",
    "        AVG(salary) AS avg_salary\n",
    "    FROM\n",
    "        HR_Dataset\n",
    "    GROUP BY\n",
    "        Department, Sex) AS department_avg_salary\n",
    "GROUP BY\n",
    "    Department\n",
    "ORDER BY\n",
    "    Department;"
   ]
  },
  {
   "cell_type": "markdown",
   "id": "5fe62797-228f-449c-9afb-d2e1bb2ecfe9",
   "metadata": {},
   "source": [
    "### Average Salaries by Gender and Position \n",
    "The analysis reveals varying compensation trends across different roles within the organization. While certain positions exhibit higher average salaries for males and others for females, the disparities underscore the complexities of factors impacting pay, extending beyond gender. Notably, the absence of data for certain positions underscores potential gender imbalances in those roles. Identified pay differences in specific positions like \"Network Engineer,\" \"Production Technician I,\" \"Sales Manager,\" and \"Sr. DBA\" emphasize the need for deeper investigations into compensation practices to ensure equitable pay regardless of gender. This analysis serves as a starting point, calling for further examination of comprehensive variables and proactive strategies to achieve genuine pay equity within the organization."
   ]
  },
  {
   "cell_type": "code",
   "execution_count": 51,
   "id": "3b53edef-5d09-44c5-9899-602642be3310",
   "metadata": {},
   "outputs": [
    {
     "name": "stdout",
     "output_type": "stream",
     "text": [
      " * sqlite:///hr_data_database.db\n",
      "Done.\n"
     ]
    },
    {
     "data": {
      "text/html": [
       "<table>\n",
       "    <thead>\n",
       "        <tr>\n",
       "            <th>Position</th>\n",
       "            <th>Male_Avg_Salary</th>\n",
       "            <th>Female_Avg_Salary</th>\n",
       "        </tr>\n",
       "    </thead>\n",
       "    <tbody>\n",
       "        <tr>\n",
       "            <td>Accountant I</td>\n",
       "            <td>$63.8k</td>\n",
       "            <td>$63.0K</td>\n",
       "        </tr>\n",
       "        <tr>\n",
       "            <td>Administrative Assistant</td>\n",
       "            <td>None</td>\n",
       "            <td>$52.3K</td>\n",
       "        </tr>\n",
       "        <tr>\n",
       "            <td>Area Sales Manager</td>\n",
       "            <td>$65.8k</td>\n",
       "            <td>$63.8K</td>\n",
       "        </tr>\n",
       "        <tr>\n",
       "            <td>BI Developer</td>\n",
       "            <td>$95.3k</td>\n",
       "            <td>$95.9K</td>\n",
       "        </tr>\n",
       "        <tr>\n",
       "            <td>BI Director</td>\n",
       "            <td>$110.9k</td>\n",
       "            <td>None</td>\n",
       "        </tr>\n",
       "        <tr>\n",
       "            <td>CIO</td>\n",
       "            <td>None</td>\n",
       "            <td>$220.5K</td>\n",
       "        </tr>\n",
       "        <tr>\n",
       "            <td>Data Analyst</td>\n",
       "            <td>$89.1k</td>\n",
       "            <td>$90.9K</td>\n",
       "        </tr>\n",
       "        <tr>\n",
       "            <td>Data Architect</td>\n",
       "            <td>None</td>\n",
       "            <td>$150.3K</td>\n",
       "        </tr>\n",
       "        <tr>\n",
       "            <td>Database Administrator</td>\n",
       "            <td>$114.0k</td>\n",
       "            <td>$107.1K</td>\n",
       "        </tr>\n",
       "        <tr>\n",
       "            <td>Director of Operations</td>\n",
       "            <td>$170.5k</td>\n",
       "            <td>None</td>\n",
       "        </tr>\n",
       "        <tr>\n",
       "            <td>Director of Sales</td>\n",
       "            <td>None</td>\n",
       "            <td>$180.0K</td>\n",
       "        </tr>\n",
       "        <tr>\n",
       "            <td>Enterprise Architect</td>\n",
       "            <td>$103.6k</td>\n",
       "            <td>None</td>\n",
       "        </tr>\n",
       "        <tr>\n",
       "            <td>IT Director</td>\n",
       "            <td>$178.0k</td>\n",
       "            <td>None</td>\n",
       "        </tr>\n",
       "        <tr>\n",
       "            <td>IT Manager</td>\n",
       "            <td>$146.5k</td>\n",
       "            <td>None</td>\n",
       "        </tr>\n",
       "        <tr>\n",
       "            <td>IT Support</td>\n",
       "            <td>$64.5k</td>\n",
       "            <td>$63.2K</td>\n",
       "        </tr>\n",
       "        <tr>\n",
       "            <td>Network Engineer</td>\n",
       "            <td>$68.2k</td>\n",
       "            <td>$51.7K</td>\n",
       "        </tr>\n",
       "        <tr>\n",
       "            <td>President &amp; CEO</td>\n",
       "            <td>None</td>\n",
       "            <td>$250.0K</td>\n",
       "        </tr>\n",
       "        <tr>\n",
       "            <td>Principal Data Architect</td>\n",
       "            <td>None</td>\n",
       "            <td>$120.0K</td>\n",
       "        </tr>\n",
       "        <tr>\n",
       "            <td>Production Manager</td>\n",
       "            <td>$77.1k</td>\n",
       "            <td>$72.9K</td>\n",
       "        </tr>\n",
       "        <tr>\n",
       "            <td>Production Technician I</td>\n",
       "            <td>$54.7k</td>\n",
       "            <td>$56.1K</td>\n",
       "        </tr>\n",
       "        <tr>\n",
       "            <td>Production Technician II</td>\n",
       "            <td>$64.0k</td>\n",
       "            <td>$65.4K</td>\n",
       "        </tr>\n",
       "        <tr>\n",
       "            <td>Sales Manager</td>\n",
       "            <td>$73.0k</td>\n",
       "            <td>$67.4K</td>\n",
       "        </tr>\n",
       "        <tr>\n",
       "            <td>Senior BI Developer</td>\n",
       "            <td>$86.4k</td>\n",
       "            <td>$81.6K</td>\n",
       "        </tr>\n",
       "        <tr>\n",
       "            <td>Software Engineer</td>\n",
       "            <td>$95.8k</td>\n",
       "            <td>$96.9K</td>\n",
       "        </tr>\n",
       "        <tr>\n",
       "            <td>Software Engineering Manager</td>\n",
       "            <td>$77.7k</td>\n",
       "            <td>None</td>\n",
       "        </tr>\n",
       "        <tr>\n",
       "            <td>Sr. Accountant</td>\n",
       "            <td>None</td>\n",
       "            <td>$102.9K</td>\n",
       "        </tr>\n",
       "        <tr>\n",
       "            <td>Sr. DBA</td>\n",
       "            <td>$104.4k</td>\n",
       "            <td>$100.0K</td>\n",
       "        </tr>\n",
       "        <tr>\n",
       "            <td>Sr. Network Engineer</td>\n",
       "            <td>$91.0k</td>\n",
       "            <td>$96.1K</td>\n",
       "        </tr>\n",
       "    </tbody>\n",
       "</table>"
      ],
      "text/plain": [
       "[('Accountant I', '$63.8k', '$63.0K'),\n",
       " ('Administrative Assistant', None, '$52.3K'),\n",
       " ('Area Sales Manager', '$65.8k', '$63.8K'),\n",
       " ('BI Developer', '$95.3k', '$95.9K'),\n",
       " ('BI Director', '$110.9k', None),\n",
       " ('CIO', None, '$220.5K'),\n",
       " ('Data Analyst', '$89.1k', '$90.9K'),\n",
       " ('Data Architect', None, '$150.3K'),\n",
       " ('Database Administrator', '$114.0k', '$107.1K'),\n",
       " ('Director of Operations', '$170.5k', None),\n",
       " ('Director of Sales', None, '$180.0K'),\n",
       " ('Enterprise Architect', '$103.6k', None),\n",
       " ('IT Director', '$178.0k', None),\n",
       " ('IT Manager', '$146.5k', None),\n",
       " ('IT Support', '$64.5k', '$63.2K'),\n",
       " ('Network Engineer', '$68.2k', '$51.7K'),\n",
       " ('President & CEO', None, '$250.0K'),\n",
       " ('Principal Data Architect', None, '$120.0K'),\n",
       " ('Production Manager', '$77.1k', '$72.9K'),\n",
       " ('Production Technician I', '$54.7k', '$56.1K'),\n",
       " ('Production Technician II', '$64.0k', '$65.4K'),\n",
       " ('Sales Manager', '$73.0k', '$67.4K'),\n",
       " ('Senior BI Developer', '$86.4k', '$81.6K'),\n",
       " ('Software Engineer', '$95.8k', '$96.9K'),\n",
       " ('Software Engineering Manager', '$77.7k', None),\n",
       " ('Sr. Accountant', None, '$102.9K'),\n",
       " ('Sr. DBA', '$104.4k', '$100.0K'),\n",
       " ('Sr. Network Engineer', '$91.0k', '$96.1K')]"
      ]
     },
     "execution_count": 51,
     "metadata": {},
     "output_type": "execute_result"
    }
   ],
   "source": [
    "%%sql\n",
    "\n",
    "SELECT\n",
    "    Position,\n",
    "    '$' || ROUND(AVG(CASE WHEN Sex = 'M ' THEN avg_salary END)/1000 ,1) || 'k' AS Male_Avg_Salary,\n",
    "    '$' || ROUND(AVG(CASE WHEN Sex = 'F' THEN avg_salary END)/1000,1) || 'K' AS Female_Avg_Salary\n",
    "FROM\n",
    "    (SELECT\n",
    "        Position,\n",
    "        Sex,\n",
    "        AVG(salary) AS avg_salary\n",
    "    FROM\n",
    "        HR_Dataset\n",
    "    GROUP BY\n",
    "        Position, Sex) AS position_avg_salary\n",
    "GROUP BY\n",
    "    Position\n",
    "ORDER BY\n",
    "    Position;"
   ]
  }
 ],
 "metadata": {
  "kernelspec": {
   "display_name": "Python 3 (ipykernel)",
   "language": "python",
   "name": "python3"
  },
  "language_info": {
   "codemirror_mode": {
    "name": "ipython",
    "version": 3
   },
   "file_extension": ".py",
   "mimetype": "text/x-python",
   "name": "python",
   "nbconvert_exporter": "python",
   "pygments_lexer": "ipython3",
   "version": "3.10.7"
  }
 },
 "nbformat": 4,
 "nbformat_minor": 5
}
