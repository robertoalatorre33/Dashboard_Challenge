{
 "cells": [
  {
   "cell_type": "markdown",
   "id": "a7c178de-da87-4f38-8175-473f427cc3bf",
   "metadata": {},
   "source": [
    "### Importing Data and Necessary libraries"
   ]
  },
  {
   "cell_type": "code",
   "execution_count": 1,
   "id": "b7e95016-befd-46a4-961e-e3672236ca5c",
   "metadata": {},
   "outputs": [],
   "source": [
    "import pandas as pd\n",
    "import sqlite3\n",
    "import csv"
   ]
  },
  {
   "cell_type": "code",
   "execution_count": 2,
   "id": "0e40eeba-4b2e-4b68-9f41-6c918d18978f",
   "metadata": {
    "scrolled": true
   },
   "outputs": [
    {
     "name": "stdout",
     "output_type": "stream",
     "text": [
      "Requirement already satisfied: ipython-sql in /Library/Frameworks/Python.framework/Versions/3.10/lib/python3.10/site-packages (0.5.0)\n",
      "Requirement already satisfied: prettytable in /Library/Frameworks/Python.framework/Versions/3.10/lib/python3.10/site-packages (from ipython-sql) (3.8.0)\n",
      "Requirement already satisfied: ipython in /Library/Frameworks/Python.framework/Versions/3.10/lib/python3.10/site-packages (from ipython-sql) (8.14.0)\n",
      "Requirement already satisfied: sqlalchemy>=2.0 in /Library/Frameworks/Python.framework/Versions/3.10/lib/python3.10/site-packages (from ipython-sql) (2.0.19)\n",
      "Requirement already satisfied: sqlparse in /Library/Frameworks/Python.framework/Versions/3.10/lib/python3.10/site-packages (from ipython-sql) (0.4.4)\n",
      "Requirement already satisfied: six in /Library/Frameworks/Python.framework/Versions/3.10/lib/python3.10/site-packages (from ipython-sql) (1.16.0)\n",
      "Requirement already satisfied: ipython-genutils in /Library/Frameworks/Python.framework/Versions/3.10/lib/python3.10/site-packages (from ipython-sql) (0.2.0)\n",
      "Requirement already satisfied: typing-extensions>=4.2.0 in /Library/Frameworks/Python.framework/Versions/3.10/lib/python3.10/site-packages (from sqlalchemy>=2.0->ipython-sql) (4.7.1)\n",
      "Requirement already satisfied: greenlet!=0.4.17 in /Library/Frameworks/Python.framework/Versions/3.10/lib/python3.10/site-packages (from sqlalchemy>=2.0->ipython-sql) (2.0.2)\n",
      "Requirement already satisfied: backcall in /Library/Frameworks/Python.framework/Versions/3.10/lib/python3.10/site-packages (from ipython->ipython-sql) (0.2.0)\n",
      "Requirement already satisfied: decorator in /Library/Frameworks/Python.framework/Versions/3.10/lib/python3.10/site-packages (from ipython->ipython-sql) (5.1.1)\n",
      "Requirement already satisfied: jedi>=0.16 in /Library/Frameworks/Python.framework/Versions/3.10/lib/python3.10/site-packages (from ipython->ipython-sql) (0.19.0)\n",
      "Requirement already satisfied: matplotlib-inline in /Library/Frameworks/Python.framework/Versions/3.10/lib/python3.10/site-packages (from ipython->ipython-sql) (0.1.6)\n",
      "Requirement already satisfied: pickleshare in /Library/Frameworks/Python.framework/Versions/3.10/lib/python3.10/site-packages (from ipython->ipython-sql) (0.7.5)\n",
      "Requirement already satisfied: prompt-toolkit!=3.0.37,<3.1.0,>=3.0.30 in /Library/Frameworks/Python.framework/Versions/3.10/lib/python3.10/site-packages (from ipython->ipython-sql) (3.0.39)\n",
      "Requirement already satisfied: pygments>=2.4.0 in /Library/Frameworks/Python.framework/Versions/3.10/lib/python3.10/site-packages (from ipython->ipython-sql) (2.15.1)\n",
      "Requirement already satisfied: stack-data in /Library/Frameworks/Python.framework/Versions/3.10/lib/python3.10/site-packages (from ipython->ipython-sql) (0.6.2)\n",
      "Requirement already satisfied: traitlets>=5 in /Library/Frameworks/Python.framework/Versions/3.10/lib/python3.10/site-packages (from ipython->ipython-sql) (5.9.0)\n",
      "Requirement already satisfied: pexpect>4.3 in /Library/Frameworks/Python.framework/Versions/3.10/lib/python3.10/site-packages (from ipython->ipython-sql) (4.8.0)\n",
      "Requirement already satisfied: appnope in /Library/Frameworks/Python.framework/Versions/3.10/lib/python3.10/site-packages (from ipython->ipython-sql) (0.1.3)\n",
      "Requirement already satisfied: wcwidth in /Library/Frameworks/Python.framework/Versions/3.10/lib/python3.10/site-packages (from prettytable->ipython-sql) (0.2.6)\n",
      "Requirement already satisfied: parso<0.9.0,>=0.8.3 in /Library/Frameworks/Python.framework/Versions/3.10/lib/python3.10/site-packages (from jedi>=0.16->ipython->ipython-sql) (0.8.3)\n",
      "Requirement already satisfied: ptyprocess>=0.5 in /Library/Frameworks/Python.framework/Versions/3.10/lib/python3.10/site-packages (from pexpect>4.3->ipython->ipython-sql) (0.7.0)\n",
      "Requirement already satisfied: executing>=1.2.0 in /Library/Frameworks/Python.framework/Versions/3.10/lib/python3.10/site-packages (from stack-data->ipython->ipython-sql) (1.2.0)\n",
      "Requirement already satisfied: asttokens>=2.1.0 in /Library/Frameworks/Python.framework/Versions/3.10/lib/python3.10/site-packages (from stack-data->ipython->ipython-sql) (2.2.1)\n",
      "Requirement already satisfied: pure-eval in /Library/Frameworks/Python.framework/Versions/3.10/lib/python3.10/site-packages (from stack-data->ipython->ipython-sql) (0.2.2)\n"
     ]
    }
   ],
   "source": [
    "!pip install ipython-sql"
   ]
  },
  {
   "cell_type": "markdown",
   "id": "546d2d74-92d7-4526-9880-415f8ff227a7",
   "metadata": {},
   "source": [
    "### Importing csv files using Python"
   ]
  },
  {
   "cell_type": "code",
   "execution_count": 3,
   "id": "a0065c2e-90eb-4edf-97a6-e6cd2f37bdef",
   "metadata": {},
   "outputs": [],
   "source": [
    "# Importing and converting cvs data files into dataframes  \n",
    "df1 = pd.read_csv('HRData_Diversity.csv')\n",
    "df2 = pd.read_csv('HRData_Employees.csv')\n",
    "df3 = pd.read_csv('HRData_Manager.csv')\n",
    "df4 = pd.read_csv('HRData_Positions.csv')"
   ]
  },
  {
   "cell_type": "code",
   "execution_count": 4,
   "id": "a9daeb16-b9b1-4802-88bd-e26ea4c4bbf2",
   "metadata": {},
   "outputs": [],
   "source": [
    "# Connecting to database \n",
    "conn = sqlite3.connect('hr_data_database.db')"
   ]
  },
  {
   "cell_type": "code",
   "execution_count": 5,
   "id": "e6bc9fef-5cdd-4ef7-b4fa-d8626aa266de",
   "metadata": {},
   "outputs": [
    {
     "data": {
      "text/plain": [
       "29"
      ]
     },
     "execution_count": 5,
     "metadata": {},
     "output_type": "execute_result"
    }
   ],
   "source": [
    "# Adding dataframes to SQL database to use for analysis\n",
    "df1.to_sql('HR_Diversity', conn, index=False,)\n",
    "df2.to_sql('HR_Employees', conn, index=False)\n",
    "df3.to_sql('HR_Manager', conn, index=False)\n",
    "df4.to_sql('HR_Positions', conn, index=False)"
   ]
  },
  {
   "cell_type": "code",
   "execution_count": 6,
   "id": "a546effe-9eb2-46eb-ab99-273de73415ac",
   "metadata": {},
   "outputs": [],
   "source": [
    "# Load the SQL extension to execute SQL commands in this notebook cell\n",
    "%load_ext sql"
   ]
  },
  {
   "cell_type": "code",
   "execution_count": 7,
   "id": "d1839fa4-333c-48ab-b7c7-c435a7f1fc92",
   "metadata": {},
   "outputs": [],
   "source": [
    "# Connect to the SQLite database named 'hr_database.db'\n",
    "%sql sqlite:///hr_data_database.db"
   ]
  },
  {
   "cell_type": "markdown",
   "id": "4bf8f735-ee7d-4bb7-bfff-4e26fb24ed7a",
   "metadata": {},
   "source": [
    "### Exploring the Data in our Database\n",
    "- Understand the schema of our four tables\n",
    "- Identify Primary and foreign keys in our tables"
   ]
  },
  {
   "cell_type": "code",
   "execution_count": 8,
   "id": "2850af84-ff9b-41f5-a6a5-eb9a26286c6e",
   "metadata": {
    "scrolled": true
   },
   "outputs": [
    {
     "name": "stdout",
     "output_type": "stream",
     "text": [
      " * sqlite:///hr_data_database.db\n",
      "Done.\n"
     ]
    },
    {
     "data": {
      "text/html": [
       "<table>\n",
       "    <thead>\n",
       "        <tr>\n",
       "            <th>hr_database_tables</th>\n",
       "        </tr>\n",
       "    </thead>\n",
       "    <tbody>\n",
       "        <tr>\n",
       "            <td>HR_Diversity</td>\n",
       "        </tr>\n",
       "        <tr>\n",
       "            <td>HR_Employees</td>\n",
       "        </tr>\n",
       "        <tr>\n",
       "            <td>HR_Manager</td>\n",
       "        </tr>\n",
       "        <tr>\n",
       "            <td>HR_Positions</td>\n",
       "        </tr>\n",
       "    </tbody>\n",
       "</table>"
      ],
      "text/plain": [
       "[('HR_Diversity',), ('HR_Employees',), ('HR_Manager',), ('HR_Positions',)]"
      ]
     },
     "execution_count": 8,
     "metadata": {},
     "output_type": "execute_result"
    }
   ],
   "source": [
    "%%sql\n",
    "\n",
    "-- Retrieve the names of tables in the SQLite database\n",
    "SELECT name AS hr_database_tables\n",
    "FROM sqlite_master\n",
    "WHERE type = 'table';"
   ]
  },
  {
   "cell_type": "code",
   "execution_count": 9,
   "id": "c3771ff9-dc8b-4cf0-ae9d-ad34857b87bb",
   "metadata": {},
   "outputs": [
    {
     "name": "stdout",
     "output_type": "stream",
     "text": [
      " * sqlite:///hr_data_database.db\n",
      "Done.\n"
     ]
    },
    {
     "data": {
      "text/html": [
       "<table>\n",
       "    <thead>\n",
       "        <tr>\n",
       "            <th>cid</th>\n",
       "            <th>name</th>\n",
       "            <th>type</th>\n",
       "            <th>notnull</th>\n",
       "            <th>dflt_value</th>\n",
       "            <th>pk</th>\n",
       "        </tr>\n",
       "    </thead>\n",
       "    <tbody>\n",
       "        <tr>\n",
       "            <td>0</td>\n",
       "            <td>Employee_Name</td>\n",
       "            <td>TEXT</td>\n",
       "            <td>0</td>\n",
       "            <td>None</td>\n",
       "            <td>0</td>\n",
       "        </tr>\n",
       "        <tr>\n",
       "            <td>1</td>\n",
       "            <td>EmpID</td>\n",
       "            <td>INTEGER</td>\n",
       "            <td>0</td>\n",
       "            <td>None</td>\n",
       "            <td>0</td>\n",
       "        </tr>\n",
       "        <tr>\n",
       "            <td>2</td>\n",
       "            <td>DeptID</td>\n",
       "            <td>INTEGER</td>\n",
       "            <td>0</td>\n",
       "            <td>None</td>\n",
       "            <td>0</td>\n",
       "        </tr>\n",
       "        <tr>\n",
       "            <td>3</td>\n",
       "            <td>Salary</td>\n",
       "            <td>INTEGER</td>\n",
       "            <td>0</td>\n",
       "            <td>None</td>\n",
       "            <td>0</td>\n",
       "        </tr>\n",
       "        <tr>\n",
       "            <td>4</td>\n",
       "            <td>PositionID</td>\n",
       "            <td>INTEGER</td>\n",
       "            <td>0</td>\n",
       "            <td>None</td>\n",
       "            <td>0</td>\n",
       "        </tr>\n",
       "        <tr>\n",
       "            <td>5</td>\n",
       "            <td>State</td>\n",
       "            <td>TEXT</td>\n",
       "            <td>0</td>\n",
       "            <td>None</td>\n",
       "            <td>0</td>\n",
       "        </tr>\n",
       "        <tr>\n",
       "            <td>6</td>\n",
       "            <td>DOB</td>\n",
       "            <td>TEXT</td>\n",
       "            <td>0</td>\n",
       "            <td>None</td>\n",
       "            <td>0</td>\n",
       "        </tr>\n",
       "        <tr>\n",
       "            <td>7</td>\n",
       "            <td>MaritalDesc</td>\n",
       "            <td>TEXT</td>\n",
       "            <td>0</td>\n",
       "            <td>None</td>\n",
       "            <td>0</td>\n",
       "        </tr>\n",
       "        <tr>\n",
       "            <td>8</td>\n",
       "            <td>DateofHire</td>\n",
       "            <td>TEXT</td>\n",
       "            <td>0</td>\n",
       "            <td>None</td>\n",
       "            <td>0</td>\n",
       "        </tr>\n",
       "        <tr>\n",
       "            <td>9</td>\n",
       "            <td>DateofTermination</td>\n",
       "            <td>TEXT</td>\n",
       "            <td>0</td>\n",
       "            <td>None</td>\n",
       "            <td>0</td>\n",
       "        </tr>\n",
       "        <tr>\n",
       "            <td>10</td>\n",
       "            <td>ManagerID</td>\n",
       "            <td>REAL</td>\n",
       "            <td>0</td>\n",
       "            <td>None</td>\n",
       "            <td>0</td>\n",
       "        </tr>\n",
       "        <tr>\n",
       "            <td>11</td>\n",
       "            <td>RecruitmentSource</td>\n",
       "            <td>TEXT</td>\n",
       "            <td>0</td>\n",
       "            <td>None</td>\n",
       "            <td>0</td>\n",
       "        </tr>\n",
       "        <tr>\n",
       "            <td>12</td>\n",
       "            <td>PerformanceScore</td>\n",
       "            <td>TEXT</td>\n",
       "            <td>0</td>\n",
       "            <td>None</td>\n",
       "            <td>0</td>\n",
       "        </tr>\n",
       "        <tr>\n",
       "            <td>13</td>\n",
       "            <td>EngagementSurvey</td>\n",
       "            <td>REAL</td>\n",
       "            <td>0</td>\n",
       "            <td>None</td>\n",
       "            <td>0</td>\n",
       "        </tr>\n",
       "        <tr>\n",
       "            <td>14</td>\n",
       "            <td>EmpSatisfaction</td>\n",
       "            <td>INTEGER</td>\n",
       "            <td>0</td>\n",
       "            <td>None</td>\n",
       "            <td>0</td>\n",
       "        </tr>\n",
       "        <tr>\n",
       "            <td>15</td>\n",
       "            <td>SpecialProjectsCount</td>\n",
       "            <td>INTEGER</td>\n",
       "            <td>0</td>\n",
       "            <td>None</td>\n",
       "            <td>0</td>\n",
       "        </tr>\n",
       "        <tr>\n",
       "            <td>16</td>\n",
       "            <td>Absences</td>\n",
       "            <td>INTEGER</td>\n",
       "            <td>0</td>\n",
       "            <td>None</td>\n",
       "            <td>0</td>\n",
       "        </tr>\n",
       "    </tbody>\n",
       "</table>"
      ],
      "text/plain": [
       "[(0, 'Employee_Name', 'TEXT', 0, None, 0),\n",
       " (1, 'EmpID', 'INTEGER', 0, None, 0),\n",
       " (2, 'DeptID', 'INTEGER', 0, None, 0),\n",
       " (3, 'Salary', 'INTEGER', 0, None, 0),\n",
       " (4, 'PositionID', 'INTEGER', 0, None, 0),\n",
       " (5, 'State', 'TEXT', 0, None, 0),\n",
       " (6, 'DOB', 'TEXT', 0, None, 0),\n",
       " (7, 'MaritalDesc', 'TEXT', 0, None, 0),\n",
       " (8, 'DateofHire', 'TEXT', 0, None, 0),\n",
       " (9, 'DateofTermination', 'TEXT', 0, None, 0),\n",
       " (10, 'ManagerID', 'REAL', 0, None, 0),\n",
       " (11, 'RecruitmentSource', 'TEXT', 0, None, 0),\n",
       " (12, 'PerformanceScore', 'TEXT', 0, None, 0),\n",
       " (13, 'EngagementSurvey', 'REAL', 0, None, 0),\n",
       " (14, 'EmpSatisfaction', 'INTEGER', 0, None, 0),\n",
       " (15, 'SpecialProjectsCount', 'INTEGER', 0, None, 0),\n",
       " (16, 'Absences', 'INTEGER', 0, None, 0)]"
      ]
     },
     "execution_count": 9,
     "metadata": {},
     "output_type": "execute_result"
    }
   ],
   "source": [
    "%%sql\n",
    "\n",
    "-- Show the schema of the table HR_Employees\n",
    "PRAGMA table_info(HR_Employees);"
   ]
  },
  {
   "cell_type": "code",
   "execution_count": 10,
   "id": "bb502fb7-e886-439e-9e17-e6bceedef37d",
   "metadata": {},
   "outputs": [
    {
     "name": "stdout",
     "output_type": "stream",
     "text": [
      " * sqlite:///hr_data_database.db\n",
      "Done.\n"
     ]
    },
    {
     "data": {
      "text/html": [
       "<table>\n",
       "    <thead>\n",
       "        <tr>\n",
       "            <th>cid</th>\n",
       "            <th>name</th>\n",
       "            <th>type</th>\n",
       "            <th>notnull</th>\n",
       "            <th>dflt_value</th>\n",
       "            <th>pk</th>\n",
       "        </tr>\n",
       "    </thead>\n",
       "    <tbody>\n",
       "        <tr>\n",
       "            <td>0</td>\n",
       "            <td>PositionID</td>\n",
       "            <td>INTEGER</td>\n",
       "            <td>0</td>\n",
       "            <td>None</td>\n",
       "            <td>0</td>\n",
       "        </tr>\n",
       "        <tr>\n",
       "            <td>1</td>\n",
       "            <td>Position</td>\n",
       "            <td>TEXT</td>\n",
       "            <td>0</td>\n",
       "            <td>None</td>\n",
       "            <td>0</td>\n",
       "        </tr>\n",
       "    </tbody>\n",
       "</table>"
      ],
      "text/plain": [
       "[(0, 'PositionID', 'INTEGER', 0, None, 0), (1, 'Position', 'TEXT', 0, None, 0)]"
      ]
     },
     "execution_count": 10,
     "metadata": {},
     "output_type": "execute_result"
    }
   ],
   "source": [
    "%%sql\n",
    "\n",
    "-- Show the schema of the table HR_Positions\n",
    "PRAGMA table_info(HR_Positions);"
   ]
  },
  {
   "cell_type": "code",
   "execution_count": 11,
   "id": "6a41221b-b4c6-4cb2-9d69-837857b2190b",
   "metadata": {},
   "outputs": [
    {
     "name": "stdout",
     "output_type": "stream",
     "text": [
      " * sqlite:///hr_data_database.db\n",
      "Done.\n"
     ]
    },
    {
     "data": {
      "text/html": [
       "<table>\n",
       "    <thead>\n",
       "        <tr>\n",
       "            <th>cid</th>\n",
       "            <th>name</th>\n",
       "            <th>type</th>\n",
       "            <th>notnull</th>\n",
       "            <th>dflt_value</th>\n",
       "            <th>pk</th>\n",
       "        </tr>\n",
       "    </thead>\n",
       "    <tbody>\n",
       "        <tr>\n",
       "            <td>0</td>\n",
       "            <td>EmpID</td>\n",
       "            <td>INTEGER</td>\n",
       "            <td>0</td>\n",
       "            <td>None</td>\n",
       "            <td>0</td>\n",
       "        </tr>\n",
       "        <tr>\n",
       "            <td>1</td>\n",
       "            <td>ManagerName</td>\n",
       "            <td>TEXT</td>\n",
       "            <td>0</td>\n",
       "            <td>None</td>\n",
       "            <td>0</td>\n",
       "        </tr>\n",
       "        <tr>\n",
       "            <td>2</td>\n",
       "            <td>ManagerID</td>\n",
       "            <td>REAL</td>\n",
       "            <td>0</td>\n",
       "            <td>None</td>\n",
       "            <td>0</td>\n",
       "        </tr>\n",
       "    </tbody>\n",
       "</table>"
      ],
      "text/plain": [
       "[(0, 'EmpID', 'INTEGER', 0, None, 0),\n",
       " (1, 'ManagerName', 'TEXT', 0, None, 0),\n",
       " (2, 'ManagerID', 'REAL', 0, None, 0)]"
      ]
     },
     "execution_count": 11,
     "metadata": {},
     "output_type": "execute_result"
    }
   ],
   "source": [
    "%%sql\n",
    "\n",
    "-- Show the schema of the table\n",
    "PRAGMA table_info(HR_Manager);"
   ]
  },
  {
   "cell_type": "code",
   "execution_count": 12,
   "id": "cafc9d36-b358-4e07-a0f3-0905028dc9d0",
   "metadata": {},
   "outputs": [
    {
     "name": "stdout",
     "output_type": "stream",
     "text": [
      " * sqlite:///hr_data_database.db\n",
      "Done.\n"
     ]
    },
    {
     "data": {
      "text/html": [
       "<table>\n",
       "    <thead>\n",
       "        <tr>\n",
       "            <th>cid</th>\n",
       "            <th>name</th>\n",
       "            <th>type</th>\n",
       "            <th>notnull</th>\n",
       "            <th>dflt_value</th>\n",
       "            <th>pk</th>\n",
       "        </tr>\n",
       "    </thead>\n",
       "    <tbody>\n",
       "        <tr>\n",
       "            <td>0</td>\n",
       "            <td>EmpID</td>\n",
       "            <td>INTEGER</td>\n",
       "            <td>0</td>\n",
       "            <td>None</td>\n",
       "            <td>0</td>\n",
       "        </tr>\n",
       "        <tr>\n",
       "            <td>1</td>\n",
       "            <td>Sex</td>\n",
       "            <td>TEXT</td>\n",
       "            <td>0</td>\n",
       "            <td>None</td>\n",
       "            <td>0</td>\n",
       "        </tr>\n",
       "        <tr>\n",
       "            <td>2</td>\n",
       "            <td>FromDiversityJobFairID</td>\n",
       "            <td>TEXT</td>\n",
       "            <td>0</td>\n",
       "            <td>None</td>\n",
       "            <td>0</td>\n",
       "        </tr>\n",
       "        <tr>\n",
       "            <td>3</td>\n",
       "            <td>HispanicLatino</td>\n",
       "            <td>TEXT</td>\n",
       "            <td>0</td>\n",
       "            <td>None</td>\n",
       "            <td>0</td>\n",
       "        </tr>\n",
       "        <tr>\n",
       "            <td>4</td>\n",
       "            <td>RaceDesc</td>\n",
       "            <td>TEXT</td>\n",
       "            <td>0</td>\n",
       "            <td>None</td>\n",
       "            <td>0</td>\n",
       "        </tr>\n",
       "    </tbody>\n",
       "</table>"
      ],
      "text/plain": [
       "[(0, 'EmpID', 'INTEGER', 0, None, 0),\n",
       " (1, 'Sex', 'TEXT', 0, None, 0),\n",
       " (2, 'FromDiversityJobFairID', 'TEXT', 0, None, 0),\n",
       " (3, 'HispanicLatino', 'TEXT', 0, None, 0),\n",
       " (4, 'RaceDesc', 'TEXT', 0, None, 0)]"
      ]
     },
     "execution_count": 12,
     "metadata": {},
     "output_type": "execute_result"
    }
   ],
   "source": [
    "%%sql\n",
    "\n",
    "-- Show the schema of the table\n",
    "PRAGMA table_info(HR_Diversity);"
   ]
  },
  {
   "cell_type": "markdown",
   "id": "d4cdff3c-d4ce-4cc9-807b-f6681c4c687e",
   "metadata": {},
   "source": [
    "### Data Cleaning - Create a new table named HR_Dataset by combining data from multiple tables"
   ]
  },
  {
   "cell_type": "code",
   "execution_count": 13,
   "id": "72439897-48ec-4bad-b329-0fdb0b218e7b",
   "metadata": {
    "scrolled": true
   },
   "outputs": [
    {
     "name": "stdout",
     "output_type": "stream",
     "text": [
      " * sqlite:///hr_data_database.db\n",
      "Done.\n"
     ]
    },
    {
     "data": {
      "text/plain": [
       "[]"
      ]
     },
     "execution_count": 13,
     "metadata": {},
     "output_type": "execute_result"
    }
   ],
   "source": [
    "%%sql\n",
    "\n",
    "-- Create a new table named HR_Dataset by combining data from multiple tables\n",
    "CREATE TABLE HR_Dataset AS\n",
    "\n",
    "SELECT *\n",
    "FROM HR_Employees e\n",
    "inner JOIN HR_Positions p ON e.positionID = p.positionID\n",
    "inner JOIN HR_Manager m on e.empid = m.empid\n",
    "inner JOIN HR_Diversity d on e.empid = d.empid;"
   ]
  },
  {
   "cell_type": "code",
   "execution_count": 15,
   "id": "3949a2c2-a4bc-4c4f-80a3-7d4b25b67369",
   "metadata": {
    "scrolled": true
   },
   "outputs": [
    {
     "name": "stdout",
     "output_type": "stream",
     "text": [
      " * sqlite:///hr_data_database.db\n",
      "Done.\n"
     ]
    },
    {
     "data": {
      "text/html": [
       "<table>\n",
       "    <thead>\n",
       "        <tr>\n",
       "            <th>Employee_Name</th>\n",
       "            <th>EmpID</th>\n",
       "            <th>DeptID</th>\n",
       "            <th>Salary</th>\n",
       "            <th>PositionID</th>\n",
       "            <th>State</th>\n",
       "            <th>DOB</th>\n",
       "            <th>MaritalDesc</th>\n",
       "            <th>DateofHire</th>\n",
       "            <th>DateofTermination</th>\n",
       "            <th>ManagerID</th>\n",
       "            <th>RecruitmentSource</th>\n",
       "            <th>PerformanceScore</th>\n",
       "            <th>EngagementSurvey</th>\n",
       "            <th>EmpSatisfaction</th>\n",
       "            <th>SpecialProjectsCount</th>\n",
       "            <th>Absences</th>\n",
       "            <th>PositionID:1</th>\n",
       "            <th>Position</th>\n",
       "            <th>EmpID:1</th>\n",
       "            <th>ManagerName</th>\n",
       "            <th>ManagerID:1</th>\n",
       "            <th>EmpID:2</th>\n",
       "            <th>Sex</th>\n",
       "            <th>FromDiversityJobFairID</th>\n",
       "            <th>HispanicLatino</th>\n",
       "            <th>RaceDesc</th>\n",
       "        </tr>\n",
       "    </thead>\n",
       "    <tbody>\n",
       "        <tr>\n",
       "            <td>Adinolfi, Wilson  K</td>\n",
       "            <td>10026</td>\n",
       "            <td>5</td>\n",
       "            <td>62506</td>\n",
       "            <td>19</td>\n",
       "            <td>MA</td>\n",
       "            <td>1983-07-10</td>\n",
       "            <td>Single</td>\n",
       "            <td>2011-07-05</td>\n",
       "            <td>None</td>\n",
       "            <td>22.0</td>\n",
       "            <td>LinkedIn</td>\n",
       "            <td>Exceeds</td>\n",
       "            <td>4.6</td>\n",
       "            <td>5</td>\n",
       "            <td>0</td>\n",
       "            <td>1</td>\n",
       "            <td>19</td>\n",
       "            <td>Production Technician I</td>\n",
       "            <td>10026</td>\n",
       "            <td>Michael Albert</td>\n",
       "            <td>22.0</td>\n",
       "            <td>10026</td>\n",
       "            <td>M </td>\n",
       "            <td>No</td>\n",
       "            <td>No</td>\n",
       "            <td>White</td>\n",
       "        </tr>\n",
       "    </tbody>\n",
       "</table>"
      ],
      "text/plain": [
       "[('Adinolfi, Wilson  K', 10026, 5, 62506, 19, 'MA', '1983-07-10', 'Single', '2011-07-05', None, 22.0, 'LinkedIn', 'Exceeds', 4.6, 5, 0, 1, 19, 'Production Technician I', 10026, 'Michael Albert', 22.0, 10026, 'M ', 'No', 'No', 'White')]"
      ]
     },
     "execution_count": 15,
     "metadata": {},
     "output_type": "execute_result"
    }
   ],
   "source": [
    "%%sql \n",
    "--\n",
    "Select * from HR_Dataset limit 1;"
   ]
  },
  {
   "cell_type": "markdown",
   "id": "6f9abb9b-cf88-4b75-9510-ad753715c9f9",
   "metadata": {},
   "source": [
    "### Ensuring new HR_Dataset has been added to database"
   ]
  },
  {
   "cell_type": "code",
   "execution_count": 14,
   "id": "689a4d0b-391e-4208-b46b-f4a13cfb2e2c",
   "metadata": {},
   "outputs": [
    {
     "name": "stdout",
     "output_type": "stream",
     "text": [
      " * sqlite:///hr_data_database.db\n",
      "Done.\n"
     ]
    },
    {
     "data": {
      "text/html": [
       "<table>\n",
       "    <thead>\n",
       "        <tr>\n",
       "            <th>hr_database_tables</th>\n",
       "        </tr>\n",
       "    </thead>\n",
       "    <tbody>\n",
       "        <tr>\n",
       "            <td>HR_Diversity</td>\n",
       "        </tr>\n",
       "        <tr>\n",
       "            <td>HR_Employees</td>\n",
       "        </tr>\n",
       "        <tr>\n",
       "            <td>HR_Manager</td>\n",
       "        </tr>\n",
       "        <tr>\n",
       "            <td>HR_Positions</td>\n",
       "        </tr>\n",
       "        <tr>\n",
       "            <td>HR_Dataset</td>\n",
       "        </tr>\n",
       "    </tbody>\n",
       "</table>"
      ],
      "text/plain": [
       "[('HR_Diversity',),\n",
       " ('HR_Employees',),\n",
       " ('HR_Manager',),\n",
       " ('HR_Positions',),\n",
       " ('HR_Dataset',)]"
      ]
     },
     "execution_count": 14,
     "metadata": {},
     "output_type": "execute_result"
    }
   ],
   "source": [
    "%%sql\n",
    "\n",
    "-- Retrieve the names of tables in the SQLite database\n",
    "SELECT name AS hr_database_tables\n",
    "FROM sqlite_master\n",
    "WHERE type = 'table';"
   ]
  },
  {
   "cell_type": "markdown",
   "id": "8aad2110-38dc-4c27-8236-3e105fe0bf46",
   "metadata": {},
   "source": [
    "### Data Cleaning - Dropping Duplicate Columns from HR_Dataset table\n",
    "- Remove Redundant Columns from HR_Dataset Table that were added when joining the 4 tables in the database"
   ]
  },
  {
   "cell_type": "code",
   "execution_count": 54,
   "id": "a24d9ce2-32b3-445f-a920-175894ad5893",
   "metadata": {
    "scrolled": true
   },
   "outputs": [
    {
     "name": "stdout",
     "output_type": "stream",
     "text": [
      " * sqlite:///hr_database.db\n",
      "   sqlite:///my_database.db\n",
      "Done.\n",
      "Done.\n",
      "Done.\n",
      "Done.\n"
     ]
    },
    {
     "data": {
      "text/plain": [
       "[]"
      ]
     },
     "execution_count": 54,
     "metadata": {},
     "output_type": "execute_result"
    }
   ],
   "source": [
    "%%sql \n",
    "\n",
    "-- Remove the column 'positionid:1' from the HR_Dataset table\n",
    "ALTER TABLE HR_Dataset\n",
    "DROP COLUMN 'positionid:1';\n",
    "\n",
    "-- Remove the column 'empid:1' from the HR_Dataset table\n",
    "ALTER TABLE HR_Dataset\n",
    "DROP COLUMN 'empid:1';\n",
    "\n",
    "-- Remove the column 'managerid:1' from the HR_Dataset table\n",
    "ALTER TABLE HR_Dataset\n",
    "DROP COLUMN 'managerid:1';\n",
    "\n",
    "-- Remove the column 'empid:2' from the HR_Dataset table\n",
    "ALTER TABLE HR_Dataset\n",
    "DROP COLUMN 'empid:2';"
   ]
  },
  {
   "cell_type": "code",
   "execution_count": 55,
   "id": "a4d67498-06ce-4af0-b24b-f259a5b0363d",
   "metadata": {},
   "outputs": [
    {
     "name": "stdout",
     "output_type": "stream",
     "text": [
      " * sqlite:///hr_database.db\n",
      "   sqlite:///my_database.db\n",
      "Done.\n"
     ]
    },
    {
     "data": {
      "text/html": [
       "<table>\n",
       "    <thead>\n",
       "        <tr>\n",
       "            <th>Employee_Name</th>\n",
       "            <th>EmpID</th>\n",
       "            <th>DeptID</th>\n",
       "            <th>Salary</th>\n",
       "            <th>PositionID</th>\n",
       "            <th>State</th>\n",
       "            <th>DOB</th>\n",
       "            <th>MaritalDesc</th>\n",
       "            <th>DateofHire</th>\n",
       "            <th>DateofTermination</th>\n",
       "            <th>ManagerID</th>\n",
       "            <th>RecruitmentSource</th>\n",
       "            <th>PerformanceScore</th>\n",
       "            <th>EngagementSurvey</th>\n",
       "            <th>EmpSatisfaction</th>\n",
       "            <th>SpecialProjectsCount</th>\n",
       "            <th>Absences</th>\n",
       "            <th>Position</th>\n",
       "            <th>ManagerName</th>\n",
       "            <th>Sex</th>\n",
       "            <th>FromDiversityJobFairID</th>\n",
       "            <th>HispanicLatino</th>\n",
       "            <th>RaceDesc</th>\n",
       "        </tr>\n",
       "    </thead>\n",
       "    <tbody>\n",
       "        <tr>\n",
       "            <td>Adinolfi, Wilson  K</td>\n",
       "            <td>10026</td>\n",
       "            <td>5</td>\n",
       "            <td>62506</td>\n",
       "            <td>19</td>\n",
       "            <td>MA</td>\n",
       "            <td>1983-07-10</td>\n",
       "            <td>Single</td>\n",
       "            <td>2011-07-05</td>\n",
       "            <td>None</td>\n",
       "            <td>22.0</td>\n",
       "            <td>LinkedIn</td>\n",
       "            <td>Exceeds</td>\n",
       "            <td>4.6</td>\n",
       "            <td>5</td>\n",
       "            <td>0</td>\n",
       "            <td>1</td>\n",
       "            <td>Production Technician I</td>\n",
       "            <td>Michael Albert</td>\n",
       "            <td>M </td>\n",
       "            <td>No</td>\n",
       "            <td>No</td>\n",
       "            <td>White</td>\n",
       "        </tr>\n",
       "    </tbody>\n",
       "</table>"
      ],
      "text/plain": [
       "[('Adinolfi, Wilson  K', 10026, 5, 62506, 19, 'MA', '1983-07-10', 'Single', '2011-07-05', None, 22.0, 'LinkedIn', 'Exceeds', 4.6, 5, 0, 1, 'Production Technician I', 'Michael Albert', 'M ', 'No', 'No', 'White')]"
      ]
     },
     "execution_count": 55,
     "metadata": {},
     "output_type": "execute_result"
    }
   ],
   "source": [
    "%%sql \n",
    "-- Display the modified table\n",
    "select * from hr_dataset limit 1;"
   ]
  },
  {
   "cell_type": "markdown",
   "id": "49609ab8-a0e0-4ccb-91f3-06a06620711a",
   "metadata": {},
   "source": [
    "### Data Cleaning - Changing Data Types\n",
    "\n",
    "- Updating data type from text to date for DOB, DateofHire, and DateofTermination columns"
   ]
  },
  {
   "cell_type": "code",
   "execution_count": 16,
   "id": "4784e554-09fb-4fc8-a7b7-7de72d284593",
   "metadata": {},
   "outputs": [
    {
     "name": "stdout",
     "output_type": "stream",
     "text": [
      " * sqlite:///hr_data_database.db\n",
      "Done.\n",
      "311 rows affected.\n",
      "Done.\n",
      "311 rows affected.\n",
      "Done.\n",
      "311 rows affected.\n",
      "Done.\n"
     ]
    },
    {
     "data": {
      "text/html": [
       "<table>\n",
       "    <thead>\n",
       "        <tr>\n",
       "            <th>Employee_Name</th>\n",
       "            <th>EmpID</th>\n",
       "            <th>DeptID</th>\n",
       "            <th>Salary</th>\n",
       "            <th>PositionID</th>\n",
       "            <th>State</th>\n",
       "            <th>DOB</th>\n",
       "            <th>MaritalDesc</th>\n",
       "            <th>DateofHire</th>\n",
       "            <th>DateofTermination</th>\n",
       "            <th>ManagerID</th>\n",
       "            <th>RecruitmentSource</th>\n",
       "            <th>PerformanceScore</th>\n",
       "            <th>EngagementSurvey</th>\n",
       "            <th>EmpSatisfaction</th>\n",
       "            <th>SpecialProjectsCount</th>\n",
       "            <th>Absences</th>\n",
       "            <th>PositionID:1</th>\n",
       "            <th>Position</th>\n",
       "            <th>EmpID:1</th>\n",
       "            <th>ManagerName</th>\n",
       "            <th>ManagerID:1</th>\n",
       "            <th>EmpID:2</th>\n",
       "            <th>Sex</th>\n",
       "            <th>FromDiversityJobFairID</th>\n",
       "            <th>HispanicLatino</th>\n",
       "            <th>RaceDesc</th>\n",
       "            <th>date_DOB</th>\n",
       "            <th>date_hired</th>\n",
       "            <th>date_term</th>\n",
       "        </tr>\n",
       "    </thead>\n",
       "    <tbody>\n",
       "        <tr>\n",
       "            <td>Adinolfi, Wilson  K</td>\n",
       "            <td>10026</td>\n",
       "            <td>5</td>\n",
       "            <td>62506</td>\n",
       "            <td>19</td>\n",
       "            <td>MA</td>\n",
       "            <td>1983-07-10</td>\n",
       "            <td>Single</td>\n",
       "            <td>2011-07-05</td>\n",
       "            <td>None</td>\n",
       "            <td>22.0</td>\n",
       "            <td>LinkedIn</td>\n",
       "            <td>Exceeds</td>\n",
       "            <td>4.6</td>\n",
       "            <td>5</td>\n",
       "            <td>0</td>\n",
       "            <td>1</td>\n",
       "            <td>19</td>\n",
       "            <td>Production Technician I</td>\n",
       "            <td>10026</td>\n",
       "            <td>Michael Albert</td>\n",
       "            <td>22.0</td>\n",
       "            <td>10026</td>\n",
       "            <td>M </td>\n",
       "            <td>No</td>\n",
       "            <td>No</td>\n",
       "            <td>White</td>\n",
       "            <td>1983-07-10</td>\n",
       "            <td>2011-07-05</td>\n",
       "            <td>None</td>\n",
       "        </tr>\n",
       "    </tbody>\n",
       "</table>"
      ],
      "text/plain": [
       "[('Adinolfi, Wilson  K', 10026, 5, 62506, 19, 'MA', '1983-07-10', 'Single', '2011-07-05', None, 22.0, 'LinkedIn', 'Exceeds', 4.6, 5, 0, 1, 19, 'Production Technician I', 10026, 'Michael Albert', 22.0, 10026, 'M ', 'No', 'No', 'White', '1983-07-10', '2011-07-05', None)]"
      ]
     },
     "execution_count": 16,
     "metadata": {},
     "output_type": "execute_result"
    }
   ],
   "source": [
    "%%sql\n",
    "\n",
    "-- Add a new column 'date_DOB' to the table and update column to a date data type \n",
    "ALTER TABLE HR_Dataset ADD COLUMN date_DOB date;\n",
    "\n",
    "UPDATE HR_Dataset\n",
    "SET date_DOB = strftime('%Y-%m-%d', DOB);\n",
    "\n",
    "\n",
    "-- Add a new column 'date_hired' to the table and update column to a date data type\n",
    "ALTER TABLE HR_Dataset ADD COLUMN date_hired date;\n",
    "\n",
    "UPDATE HR_Dataset\n",
    "SET date_hired = strftime('%Y-%m-%d', dateofhire);\n",
    "\n",
    "\n",
    "-- Add a new column 'date_term' to the table and update column to a date data type\n",
    "ALTER TABLE HR_Dataset ADD COLUMN date_term date;\n",
    "\n",
    "UPDATE HR_Dataset\n",
    "SET date_term = strftime('%Y-%m-%d', dateoftermination);\n",
    "\n",
    "\n",
    "-- Display the modified table with three added columns\n",
    "SELECT * FROM HR_Dataset\n",
    "\n",
    "LIMIT 1;"
   ]
  },
  {
   "cell_type": "markdown",
   "id": "4f1ff9c5-9a2f-40e2-8932-f0d9d51a32e1",
   "metadata": {},
   "source": [
    "### Data Manipulation - Replacing Null values from date of termination\n",
    "- Replacing all Null values from the date_term column as current date to create a column for display employee tenure"
   ]
  },
  {
   "cell_type": "code",
   "execution_count": 17,
   "id": "d6ef221b-c230-4ee8-8873-d0a3878ff5e5",
   "metadata": {
    "scrolled": true
   },
   "outputs": [
    {
     "name": "stdout",
     "output_type": "stream",
     "text": [
      " * sqlite:///hr_data_database.db\n",
      "207 rows affected.\n"
     ]
    },
    {
     "data": {
      "text/plain": [
       "[]"
      ]
     },
     "execution_count": 17,
     "metadata": {},
     "output_type": "execute_result"
    }
   ],
   "source": [
    "%%sql\n",
    "\n",
    "UPDATE hr_dataset\n",
    "\n",
    "SET date_term = CURRENT_DATE\n",
    "WHERE date_term IS NULL;"
   ]
  },
  {
   "cell_type": "code",
   "execution_count": 18,
   "id": "a11c66e1-bd1d-4e44-b23b-6363ce53ddbf",
   "metadata": {},
   "outputs": [
    {
     "name": "stdout",
     "output_type": "stream",
     "text": [
      " * sqlite:///hr_data_database.db\n",
      "Done.\n"
     ]
    },
    {
     "data": {
      "text/html": [
       "<table>\n",
       "    <thead>\n",
       "        <tr>\n",
       "            <th>Employee_Name</th>\n",
       "            <th>EmpID</th>\n",
       "            <th>DeptID</th>\n",
       "            <th>Salary</th>\n",
       "            <th>PositionID</th>\n",
       "            <th>State</th>\n",
       "            <th>DOB</th>\n",
       "            <th>MaritalDesc</th>\n",
       "            <th>DateofHire</th>\n",
       "            <th>DateofTermination</th>\n",
       "            <th>ManagerID</th>\n",
       "            <th>RecruitmentSource</th>\n",
       "            <th>PerformanceScore</th>\n",
       "            <th>EngagementSurvey</th>\n",
       "            <th>EmpSatisfaction</th>\n",
       "            <th>SpecialProjectsCount</th>\n",
       "            <th>Absences</th>\n",
       "            <th>PositionID:1</th>\n",
       "            <th>Position</th>\n",
       "            <th>EmpID:1</th>\n",
       "            <th>ManagerName</th>\n",
       "            <th>ManagerID:1</th>\n",
       "            <th>EmpID:2</th>\n",
       "            <th>Sex</th>\n",
       "            <th>FromDiversityJobFairID</th>\n",
       "            <th>HispanicLatino</th>\n",
       "            <th>RaceDesc</th>\n",
       "            <th>date_DOB</th>\n",
       "            <th>date_hired</th>\n",
       "            <th>date_term</th>\n",
       "        </tr>\n",
       "    </thead>\n",
       "    <tbody>\n",
       "        <tr>\n",
       "            <td>Adinolfi, Wilson  K</td>\n",
       "            <td>10026</td>\n",
       "            <td>5</td>\n",
       "            <td>62506</td>\n",
       "            <td>19</td>\n",
       "            <td>MA</td>\n",
       "            <td>1983-07-10</td>\n",
       "            <td>Single</td>\n",
       "            <td>2011-07-05</td>\n",
       "            <td>None</td>\n",
       "            <td>22.0</td>\n",
       "            <td>LinkedIn</td>\n",
       "            <td>Exceeds</td>\n",
       "            <td>4.6</td>\n",
       "            <td>5</td>\n",
       "            <td>0</td>\n",
       "            <td>1</td>\n",
       "            <td>19</td>\n",
       "            <td>Production Technician I</td>\n",
       "            <td>10026</td>\n",
       "            <td>Michael Albert</td>\n",
       "            <td>22.0</td>\n",
       "            <td>10026</td>\n",
       "            <td>M </td>\n",
       "            <td>No</td>\n",
       "            <td>No</td>\n",
       "            <td>White</td>\n",
       "            <td>1983-07-10</td>\n",
       "            <td>2011-07-05</td>\n",
       "            <td>2023-08-10</td>\n",
       "        </tr>\n",
       "    </tbody>\n",
       "</table>"
      ],
      "text/plain": [
       "[('Adinolfi, Wilson  K', 10026, 5, 62506, 19, 'MA', '1983-07-10', 'Single', '2011-07-05', None, 22.0, 'LinkedIn', 'Exceeds', 4.6, 5, 0, 1, 19, 'Production Technician I', 10026, 'Michael Albert', 22.0, 10026, 'M ', 'No', 'No', 'White', '1983-07-10', '2011-07-05', '2023-08-10')]"
      ]
     },
     "execution_count": 18,
     "metadata": {},
     "output_type": "execute_result"
    }
   ],
   "source": [
    "%%sql \n",
    "\n",
    "-- Display the modified table\n",
    "SELECT * FROM HR_Dataset LIMIT 1;"
   ]
  },
  {
   "cell_type": "markdown",
   "id": "8c8a8ef4-be11-4eb8-8cf9-9037c545465b",
   "metadata": {},
   "source": [
    "### Data Manipulation - Adding Employee Tenure Column"
   ]
  },
  {
   "cell_type": "code",
   "execution_count": 19,
   "id": "2f88a17b-41dd-4a2d-9549-835fde77ba20",
   "metadata": {},
   "outputs": [
    {
     "name": "stdout",
     "output_type": "stream",
     "text": [
      " * sqlite:///hr_data_database.db\n",
      "Done.\n",
      "311 rows affected.\n"
     ]
    },
    {
     "data": {
      "text/plain": [
       "[]"
      ]
     },
     "execution_count": 19,
     "metadata": {},
     "output_type": "execute_result"
    }
   ],
   "source": [
    "%%sql \n",
    "\n",
    "ALTER TABLE HR_Dataset\n",
    "ADD COLUMN Tenure INTEGER;\n",
    "\n",
    "UPDATE HR_Dataset\n",
    "SET Tenure = CAST((julianday(date_term) - julianday(date_hired)) / 365.25 AS INTEGER);"
   ]
  },
  {
   "cell_type": "code",
   "execution_count": 20,
   "id": "a40bc9fd-4038-4361-9266-09915c268b7a",
   "metadata": {},
   "outputs": [
    {
     "name": "stdout",
     "output_type": "stream",
     "text": [
      " * sqlite:///hr_data_database.db\n",
      "Done.\n"
     ]
    },
    {
     "data": {
      "text/html": [
       "<table>\n",
       "    <thead>\n",
       "        <tr>\n",
       "            <th>Employee_Name</th>\n",
       "            <th>EmpID</th>\n",
       "            <th>DeptID</th>\n",
       "            <th>Salary</th>\n",
       "            <th>PositionID</th>\n",
       "            <th>State</th>\n",
       "            <th>DOB</th>\n",
       "            <th>MaritalDesc</th>\n",
       "            <th>DateofHire</th>\n",
       "            <th>DateofTermination</th>\n",
       "            <th>ManagerID</th>\n",
       "            <th>RecruitmentSource</th>\n",
       "            <th>PerformanceScore</th>\n",
       "            <th>EngagementSurvey</th>\n",
       "            <th>EmpSatisfaction</th>\n",
       "            <th>SpecialProjectsCount</th>\n",
       "            <th>Absences</th>\n",
       "            <th>PositionID:1</th>\n",
       "            <th>Position</th>\n",
       "            <th>EmpID:1</th>\n",
       "            <th>ManagerName</th>\n",
       "            <th>ManagerID:1</th>\n",
       "            <th>EmpID:2</th>\n",
       "            <th>Sex</th>\n",
       "            <th>FromDiversityJobFairID</th>\n",
       "            <th>HispanicLatino</th>\n",
       "            <th>RaceDesc</th>\n",
       "            <th>date_DOB</th>\n",
       "            <th>date_hired</th>\n",
       "            <th>date_term</th>\n",
       "            <th>Tenure</th>\n",
       "        </tr>\n",
       "    </thead>\n",
       "    <tbody>\n",
       "        <tr>\n",
       "            <td>Adinolfi, Wilson  K</td>\n",
       "            <td>10026</td>\n",
       "            <td>5</td>\n",
       "            <td>62506</td>\n",
       "            <td>19</td>\n",
       "            <td>MA</td>\n",
       "            <td>1983-07-10</td>\n",
       "            <td>Single</td>\n",
       "            <td>2011-07-05</td>\n",
       "            <td>None</td>\n",
       "            <td>22.0</td>\n",
       "            <td>LinkedIn</td>\n",
       "            <td>Exceeds</td>\n",
       "            <td>4.6</td>\n",
       "            <td>5</td>\n",
       "            <td>0</td>\n",
       "            <td>1</td>\n",
       "            <td>19</td>\n",
       "            <td>Production Technician I</td>\n",
       "            <td>10026</td>\n",
       "            <td>Michael Albert</td>\n",
       "            <td>22.0</td>\n",
       "            <td>10026</td>\n",
       "            <td>M </td>\n",
       "            <td>No</td>\n",
       "            <td>No</td>\n",
       "            <td>White</td>\n",
       "            <td>1983-07-10</td>\n",
       "            <td>2011-07-05</td>\n",
       "            <td>2023-08-10</td>\n",
       "            <td>12</td>\n",
       "        </tr>\n",
       "    </tbody>\n",
       "</table>"
      ],
      "text/plain": [
       "[('Adinolfi, Wilson  K', 10026, 5, 62506, 19, 'MA', '1983-07-10', 'Single', '2011-07-05', None, 22.0, 'LinkedIn', 'Exceeds', 4.6, 5, 0, 1, 19, 'Production Technician I', 10026, 'Michael Albert', 22.0, 10026, 'M ', 'No', 'No', 'White', '1983-07-10', '2011-07-05', '2023-08-10', 12)]"
      ]
     },
     "execution_count": 20,
     "metadata": {},
     "output_type": "execute_result"
    }
   ],
   "source": [
    "%%sql \n",
    "\n",
    "-- Display the modified table\n",
    "SELECT * FROM HR_Dataset LIMIT 1;"
   ]
  },
  {
   "cell_type": "markdown",
   "id": "cf4cb34b-de24-4775-b737-ac812f873f59",
   "metadata": {},
   "source": [
    "### Data Manipulation\n",
    "- Added a new column 'Married_id' to the HR_Employees table \n",
    "- Update 'Married_id' values based on 'MaritalDesc' values"
   ]
  },
  {
   "cell_type": "code",
   "execution_count": 21,
   "id": "8acd1c2c-52b3-4662-aae1-8ed7f5841251",
   "metadata": {},
   "outputs": [
    {
     "name": "stdout",
     "output_type": "stream",
     "text": [
      " * sqlite:///hr_data_database.db\n",
      "Done.\n",
      "311 rows affected.\n"
     ]
    },
    {
     "data": {
      "text/plain": [
       "[]"
      ]
     },
     "execution_count": 21,
     "metadata": {},
     "output_type": "execute_result"
    }
   ],
   "source": [
    "%%sql\n",
    "\n",
    "ALTER TABLE HR_Dataset\n",
    "ADD COLUMN Married_id INTEGER;\n",
    "\n",
    "UPDATE HR_Dataset\n",
    "SET Married_id = CASE\n",
    "    WHEN MaritalDesc = 'Single' THEN 1\n",
    "    WHEN MaritalDesc = 'Widowed' THEN 1\n",
    "    WHEN MaritalDesc = 'Divorced' THEN 1\n",
    "    WHEN MaritalDesc = 'Married' THEN 0\n",
    "    ELSE NULL\n",
    "END;"
   ]
  },
  {
   "cell_type": "code",
   "execution_count": 27,
   "id": "044770d7-950d-4c5c-b00b-78a46cc17875",
   "metadata": {},
   "outputs": [
    {
     "name": "stdout",
     "output_type": "stream",
     "text": [
      " * sqlite:///hr_data_database.db\n",
      "Done.\n"
     ]
    },
    {
     "data": {
      "text/html": [
       "<table>\n",
       "    <thead>\n",
       "        <tr>\n",
       "            <th>Employee_Name</th>\n",
       "            <th>EmpID</th>\n",
       "            <th>DeptID</th>\n",
       "            <th>Salary</th>\n",
       "            <th>PositionID</th>\n",
       "            <th>State</th>\n",
       "            <th>DOB</th>\n",
       "            <th>MaritalDesc</th>\n",
       "            <th>DateofHire</th>\n",
       "            <th>DateofTermination</th>\n",
       "            <th>ManagerID</th>\n",
       "            <th>RecruitmentSource</th>\n",
       "            <th>PerformanceScore</th>\n",
       "            <th>EngagementSurvey</th>\n",
       "            <th>EmpSatisfaction</th>\n",
       "            <th>SpecialProjectsCount</th>\n",
       "            <th>Absences</th>\n",
       "            <th>PositionID:1</th>\n",
       "            <th>Position</th>\n",
       "            <th>EmpID:1</th>\n",
       "            <th>ManagerName</th>\n",
       "            <th>ManagerID:1</th>\n",
       "            <th>EmpID:2</th>\n",
       "            <th>Sex</th>\n",
       "            <th>FromDiversityJobFairID</th>\n",
       "            <th>HispanicLatino</th>\n",
       "            <th>RaceDesc</th>\n",
       "            <th>date_DOB</th>\n",
       "            <th>date_hired</th>\n",
       "            <th>date_term</th>\n",
       "            <th>Tenure</th>\n",
       "            <th>Married_id</th>\n",
       "            <th>PerfScore_ID</th>\n",
       "            <th>DiversityJobFairScore</th>\n",
       "        </tr>\n",
       "    </thead>\n",
       "    <tbody>\n",
       "        <tr>\n",
       "            <td>Adinolfi, Wilson  K</td>\n",
       "            <td>10026</td>\n",
       "            <td>5</td>\n",
       "            <td>62506</td>\n",
       "            <td>19</td>\n",
       "            <td>MA</td>\n",
       "            <td>1983-07-10</td>\n",
       "            <td>Single</td>\n",
       "            <td>2011-07-05</td>\n",
       "            <td>None</td>\n",
       "            <td>22.0</td>\n",
       "            <td>LinkedIn</td>\n",
       "            <td>Exceeds</td>\n",
       "            <td>4.6</td>\n",
       "            <td>5</td>\n",
       "            <td>0</td>\n",
       "            <td>1</td>\n",
       "            <td>19</td>\n",
       "            <td>Production Technician I</td>\n",
       "            <td>10026</td>\n",
       "            <td>Michael Albert</td>\n",
       "            <td>22.0</td>\n",
       "            <td>10026</td>\n",
       "            <td>M </td>\n",
       "            <td>No</td>\n",
       "            <td>No</td>\n",
       "            <td>White</td>\n",
       "            <td>1983-07-10</td>\n",
       "            <td>2011-07-05</td>\n",
       "            <td>2023-08-10</td>\n",
       "            <td>12</td>\n",
       "            <td>1</td>\n",
       "            <td>4</td>\n",
       "            <td>0</td>\n",
       "        </tr>\n",
       "    </tbody>\n",
       "</table>"
      ],
      "text/plain": [
       "[('Adinolfi, Wilson  K', 10026, 5, 62506, 19, 'MA', '1983-07-10', 'Single', '2011-07-05', None, 22.0, 'LinkedIn', 'Exceeds', 4.6, 5, 0, 1, 19, 'Production Technician I', 10026, 'Michael Albert', 22.0, 10026, 'M ', 'No', 'No', 'White', '1983-07-10', '2011-07-05', '2023-08-10', 12, 1, 4, 0)]"
      ]
     },
     "execution_count": 27,
     "metadata": {},
     "output_type": "execute_result"
    }
   ],
   "source": [
    "%%sql \n",
    "\n",
    "-- Display the modified table\n",
    "SELECT * FROM HR_Dataset LIMIT 1;"
   ]
  },
  {
   "cell_type": "markdown",
   "id": "966227e3-eab9-4186-926a-3d3292110498",
   "metadata": {},
   "source": [
    "### Data Manipulation\n",
    "- Added a new column 'PerfScore_ID' to the HR_Employees table \n",
    "- Update 'PerfScore_ID' values based on 'PerformanceScore' values"
   ]
  },
  {
   "cell_type": "code",
   "execution_count": 23,
   "id": "c82de43b-8c3a-43ab-9db7-2cae6d177461",
   "metadata": {
    "scrolled": true
   },
   "outputs": [
    {
     "name": "stdout",
     "output_type": "stream",
     "text": [
      " * sqlite:///hr_data_database.db\n",
      "Done.\n",
      "311 rows affected.\n"
     ]
    },
    {
     "data": {
      "text/plain": [
       "[]"
      ]
     },
     "execution_count": 23,
     "metadata": {},
     "output_type": "execute_result"
    }
   ],
   "source": [
    "%%sql\n",
    "\n",
    "ALTER TABLE HR_Dataset\n",
    "ADD COLUMN PerfScore_ID INTEGER;\n",
    "\n",
    "UPDATE HR_Dataset\n",
    "SET PerfScore_ID = CASE\n",
    "    WHEN PerformanceScore = 'Exceeds' THEN 4\n",
    "    WHEN PerformanceScore = 'Fully Meets' THEN 3\n",
    "    WHEN PerformanceScore = 'Needs Improvement' THEN 2\n",
    "    WHEN PerformanceScore = 'PIP' THEN 1\n",
    "    ELSE NULL\n",
    "END;"
   ]
  },
  {
   "cell_type": "code",
   "execution_count": 78,
   "id": "2140b2a6-86ec-4782-b2f9-78d00ab2a1d8",
   "metadata": {
    "scrolled": true
   },
   "outputs": [
    {
     "name": "stdout",
     "output_type": "stream",
     "text": [
      " * sqlite:///hr_database.db\n",
      "   sqlite:///my_database.db\n",
      "Done.\n"
     ]
    },
    {
     "data": {
      "text/html": [
       "<table>\n",
       "    <thead>\n",
       "        <tr>\n",
       "            <th>Employee_Name</th>\n",
       "            <th>EmpID</th>\n",
       "            <th>DeptID</th>\n",
       "            <th>Salary</th>\n",
       "            <th>PositionID</th>\n",
       "            <th>State</th>\n",
       "            <th>DOB</th>\n",
       "            <th>MaritalDesc</th>\n",
       "            <th>DateofHire</th>\n",
       "            <th>DateofTermination</th>\n",
       "            <th>ManagerID</th>\n",
       "            <th>RecruitmentSource</th>\n",
       "            <th>PerformanceScore</th>\n",
       "            <th>EngagementSurvey</th>\n",
       "            <th>EmpSatisfaction</th>\n",
       "            <th>SpecialProjectsCount</th>\n",
       "            <th>Absences</th>\n",
       "            <th>Position</th>\n",
       "            <th>ManagerName</th>\n",
       "            <th>Sex</th>\n",
       "            <th>FromDiversityJobFairID</th>\n",
       "            <th>HispanicLatino</th>\n",
       "            <th>RaceDesc</th>\n",
       "            <th>date_DOB</th>\n",
       "            <th>date_hired</th>\n",
       "            <th>date_term</th>\n",
       "            <th>Tenure</th>\n",
       "            <th>PerfScore_ID</th>\n",
       "        </tr>\n",
       "    </thead>\n",
       "    <tbody>\n",
       "        <tr>\n",
       "            <td>Adinolfi, Wilson  K</td>\n",
       "            <td>10026</td>\n",
       "            <td>5</td>\n",
       "            <td>62506</td>\n",
       "            <td>19</td>\n",
       "            <td>MA</td>\n",
       "            <td>1983-07-10</td>\n",
       "            <td>Single</td>\n",
       "            <td>2011-07-05</td>\n",
       "            <td>None</td>\n",
       "            <td>22.0</td>\n",
       "            <td>LinkedIn</td>\n",
       "            <td>Exceeds</td>\n",
       "            <td>4.6</td>\n",
       "            <td>5</td>\n",
       "            <td>0</td>\n",
       "            <td>1</td>\n",
       "            <td>Production Technician I</td>\n",
       "            <td>Michael Albert</td>\n",
       "            <td>M </td>\n",
       "            <td>No</td>\n",
       "            <td>No</td>\n",
       "            <td>White</td>\n",
       "            <td>1983-07-10</td>\n",
       "            <td>2011-07-05</td>\n",
       "            <td>2023-08-10</td>\n",
       "            <td>12</td>\n",
       "            <td>4</td>\n",
       "        </tr>\n",
       "    </tbody>\n",
       "</table>"
      ],
      "text/plain": [
       "[('Adinolfi, Wilson  K', 10026, 5, 62506, 19, 'MA', '1983-07-10', 'Single', '2011-07-05', None, 22.0, 'LinkedIn', 'Exceeds', 4.6, 5, 0, 1, 'Production Technician I', 'Michael Albert', 'M ', 'No', 'No', 'White', '1983-07-10', '2011-07-05', '2023-08-10', 12, 4)]"
      ]
     },
     "execution_count": 78,
     "metadata": {},
     "output_type": "execute_result"
    }
   ],
   "source": [
    "%%sql \n",
    "\n",
    "-- Display the modified table\n",
    "SELECT * FROM HR_Dataset LIMIT 1;"
   ]
  },
  {
   "cell_type": "markdown",
   "id": "cdd67690-dffe-4e32-a9f4-62968235b33a",
   "metadata": {},
   "source": [
    "### Data Manipulation\n",
    "- Added a new column 'DiversityJobFairScore' to the HR_Dataset table \n",
    "- Updated score values as 1 if employees were hired in a Diversity Job Fair and 0 if not "
   ]
  },
  {
   "cell_type": "code",
   "execution_count": 24,
   "id": "d5af6b10-27f0-4759-a4ee-d9398ab016ff",
   "metadata": {
    "scrolled": true
   },
   "outputs": [
    {
     "name": "stdout",
     "output_type": "stream",
     "text": [
      " * sqlite:///hr_data_database.db\n",
      "Done.\n",
      "311 rows affected.\n"
     ]
    },
    {
     "data": {
      "text/plain": [
       "[]"
      ]
     },
     "execution_count": 24,
     "metadata": {},
     "output_type": "execute_result"
    }
   ],
   "source": [
    "%%sql \n",
    "\n",
    "ALTER TABLE HR_Dataset\n",
    "ADD COLUMN DiversityJobFairScore INTEGER;\n",
    "\n",
    "UPDATE HR_Dataset\n",
    "SET DiversityJobFairScore = CASE\n",
    "    WHEN FromDiversityJobFairID = 'Yes' THEN 1\n",
    "    ELSE 0\n",
    "END;"
   ]
  },
  {
   "cell_type": "code",
   "execution_count": 25,
   "id": "da2a075d-145d-417d-9af4-1c25d8aec2d8",
   "metadata": {
    "scrolled": true
   },
   "outputs": [
    {
     "name": "stdout",
     "output_type": "stream",
     "text": [
      " * sqlite:///hr_data_database.db\n",
      "Done.\n"
     ]
    },
    {
     "data": {
      "text/html": [
       "<table>\n",
       "    <thead>\n",
       "        <tr>\n",
       "            <th>Employee_Name</th>\n",
       "            <th>EmpID</th>\n",
       "            <th>DeptID</th>\n",
       "            <th>Salary</th>\n",
       "            <th>PositionID</th>\n",
       "            <th>State</th>\n",
       "            <th>DOB</th>\n",
       "            <th>MaritalDesc</th>\n",
       "            <th>DateofHire</th>\n",
       "            <th>DateofTermination</th>\n",
       "            <th>ManagerID</th>\n",
       "            <th>RecruitmentSource</th>\n",
       "            <th>PerformanceScore</th>\n",
       "            <th>EngagementSurvey</th>\n",
       "            <th>EmpSatisfaction</th>\n",
       "            <th>SpecialProjectsCount</th>\n",
       "            <th>Absences</th>\n",
       "            <th>PositionID:1</th>\n",
       "            <th>Position</th>\n",
       "            <th>EmpID:1</th>\n",
       "            <th>ManagerName</th>\n",
       "            <th>ManagerID:1</th>\n",
       "            <th>EmpID:2</th>\n",
       "            <th>Sex</th>\n",
       "            <th>FromDiversityJobFairID</th>\n",
       "            <th>HispanicLatino</th>\n",
       "            <th>RaceDesc</th>\n",
       "            <th>date_DOB</th>\n",
       "            <th>date_hired</th>\n",
       "            <th>date_term</th>\n",
       "            <th>Tenure</th>\n",
       "            <th>Married_id</th>\n",
       "            <th>PerfScore_ID</th>\n",
       "            <th>DiversityJobFairScore</th>\n",
       "        </tr>\n",
       "    </thead>\n",
       "    <tbody>\n",
       "        <tr>\n",
       "            <td>Adinolfi, Wilson  K</td>\n",
       "            <td>10026</td>\n",
       "            <td>5</td>\n",
       "            <td>62506</td>\n",
       "            <td>19</td>\n",
       "            <td>MA</td>\n",
       "            <td>1983-07-10</td>\n",
       "            <td>Single</td>\n",
       "            <td>2011-07-05</td>\n",
       "            <td>None</td>\n",
       "            <td>22.0</td>\n",
       "            <td>LinkedIn</td>\n",
       "            <td>Exceeds</td>\n",
       "            <td>4.6</td>\n",
       "            <td>5</td>\n",
       "            <td>0</td>\n",
       "            <td>1</td>\n",
       "            <td>19</td>\n",
       "            <td>Production Technician I</td>\n",
       "            <td>10026</td>\n",
       "            <td>Michael Albert</td>\n",
       "            <td>22.0</td>\n",
       "            <td>10026</td>\n",
       "            <td>M </td>\n",
       "            <td>No</td>\n",
       "            <td>No</td>\n",
       "            <td>White</td>\n",
       "            <td>1983-07-10</td>\n",
       "            <td>2011-07-05</td>\n",
       "            <td>2023-08-10</td>\n",
       "            <td>12</td>\n",
       "            <td>1</td>\n",
       "            <td>4</td>\n",
       "            <td>0</td>\n",
       "        </tr>\n",
       "    </tbody>\n",
       "</table>"
      ],
      "text/plain": [
       "[('Adinolfi, Wilson  K', 10026, 5, 62506, 19, 'MA', '1983-07-10', 'Single', '2011-07-05', None, 22.0, 'LinkedIn', 'Exceeds', 4.6, 5, 0, 1, 19, 'Production Technician I', 10026, 'Michael Albert', 22.0, 10026, 'M ', 'No', 'No', 'White', '1983-07-10', '2011-07-05', '2023-08-10', 12, 1, 4, 0)]"
      ]
     },
     "execution_count": 25,
     "metadata": {},
     "output_type": "execute_result"
    }
   ],
   "source": [
    "%%sql \n",
    "\n",
    "-- Display the modified table\n",
    "SELECT * FROM HR_Dataset LIMIT 1;"
   ]
  },
  {
   "cell_type": "markdown",
   "id": "acbcd211-6557-4a99-9ca8-b9b32aa8a7db",
   "metadata": {},
   "source": [
    "### Data Manipulation\n",
    "- Added a new column 'Date_Term' to the HR_Dataset table \n",
    "- Update values based on 'dateoftermination' column, 1 if employee had a termination date and 0 if date was Null"
   ]
  },
  {
   "cell_type": "code",
   "execution_count": 28,
   "id": "7719a27e-191d-48a3-ba67-33a420f0332a",
   "metadata": {},
   "outputs": [
    {
     "name": "stdout",
     "output_type": "stream",
     "text": [
      " * sqlite:///hr_data_database.db\n",
      "311 rows affected.\n"
     ]
    },
    {
     "data": {
      "text/plain": [
       "[]"
      ]
     },
     "execution_count": 28,
     "metadata": {},
     "output_type": "execute_result"
    }
   ],
   "source": [
    "%%sql \n",
    "\n",
    "UPDATE HR_Dataset\n",
    "SET date_term = CASE\n",
    "    WHEN dateoftermination IS NULL THEN 0 \n",
    "    ELSE 1\n",
    "END;"
   ]
  },
  {
   "cell_type": "code",
   "execution_count": 25,
   "id": "4c3fa01d-efc6-4270-b3c2-830b902c8315",
   "metadata": {
    "scrolled": true
   },
   "outputs": [
    {
     "name": "stdout",
     "output_type": "stream",
     "text": [
      " * sqlite:///hr_data_database.db\n",
      "Done.\n"
     ]
    },
    {
     "data": {
      "text/html": [
       "<table>\n",
       "    <thead>\n",
       "        <tr>\n",
       "            <th>Employee_Name</th>\n",
       "            <th>EmpID</th>\n",
       "            <th>DeptID</th>\n",
       "            <th>Salary</th>\n",
       "            <th>PositionID</th>\n",
       "            <th>State</th>\n",
       "            <th>DOB</th>\n",
       "            <th>MaritalDesc</th>\n",
       "            <th>DateofHire</th>\n",
       "            <th>DateofTermination</th>\n",
       "            <th>ManagerID</th>\n",
       "            <th>RecruitmentSource</th>\n",
       "            <th>PerformanceScore</th>\n",
       "            <th>EngagementSurvey</th>\n",
       "            <th>EmpSatisfaction</th>\n",
       "            <th>SpecialProjectsCount</th>\n",
       "            <th>Absences</th>\n",
       "            <th>PositionID:1</th>\n",
       "            <th>Position</th>\n",
       "            <th>EmpID:1</th>\n",
       "            <th>ManagerName</th>\n",
       "            <th>ManagerID:1</th>\n",
       "            <th>EmpID:2</th>\n",
       "            <th>Sex</th>\n",
       "            <th>FromDiversityJobFairID</th>\n",
       "            <th>HispanicLatino</th>\n",
       "            <th>RaceDesc</th>\n",
       "            <th>date_DOB</th>\n",
       "            <th>date_hired</th>\n",
       "            <th>date_term</th>\n",
       "            <th>Tenure</th>\n",
       "            <th>Married_id</th>\n",
       "            <th>PerfScore_ID</th>\n",
       "            <th>DiversityJobFairScore</th>\n",
       "        </tr>\n",
       "    </thead>\n",
       "    <tbody>\n",
       "        <tr>\n",
       "            <td>Adinolfi, Wilson  K</td>\n",
       "            <td>10026</td>\n",
       "            <td>5</td>\n",
       "            <td>62506</td>\n",
       "            <td>19</td>\n",
       "            <td>MA</td>\n",
       "            <td>1983-07-10</td>\n",
       "            <td>Single</td>\n",
       "            <td>2011-07-05</td>\n",
       "            <td>None</td>\n",
       "            <td>22.0</td>\n",
       "            <td>LinkedIn</td>\n",
       "            <td>Exceeds</td>\n",
       "            <td>4.6</td>\n",
       "            <td>5</td>\n",
       "            <td>0</td>\n",
       "            <td>1</td>\n",
       "            <td>19</td>\n",
       "            <td>Production Technician I</td>\n",
       "            <td>10026</td>\n",
       "            <td>Michael Albert</td>\n",
       "            <td>22.0</td>\n",
       "            <td>10026</td>\n",
       "            <td>M </td>\n",
       "            <td>No</td>\n",
       "            <td>No</td>\n",
       "            <td>White</td>\n",
       "            <td>1983-07-10</td>\n",
       "            <td>2011-07-05</td>\n",
       "            <td>2023-08-10</td>\n",
       "            <td>12</td>\n",
       "            <td>1</td>\n",
       "            <td>4</td>\n",
       "            <td>0</td>\n",
       "        </tr>\n",
       "    </tbody>\n",
       "</table>"
      ],
      "text/plain": [
       "[('Adinolfi, Wilson  K', 10026, 5, 62506, 19, 'MA', '1983-07-10', 'Single', '2011-07-05', None, 22.0, 'LinkedIn', 'Exceeds', 4.6, 5, 0, 1, 19, 'Production Technician I', 10026, 'Michael Albert', 22.0, 10026, 'M ', 'No', 'No', 'White', '1983-07-10', '2011-07-05', '2023-08-10', 12, 1, 4, 0)]"
      ]
     },
     "execution_count": 25,
     "metadata": {},
     "output_type": "execute_result"
    }
   ],
   "source": [
    "%%sql \n",
    "\n",
    "-- Display the modified table\n",
    "SELECT * FROM HR_Dataset LIMIT 1;"
   ]
  },
  {
   "cell_type": "markdown",
   "id": "08d5cdf4-d8f9-4365-a579-7de97f47c1ea",
   "metadata": {},
   "source": [
    "### Export clean HR_Dataset table as a CVS file"
   ]
  },
  {
   "cell_type": "code",
   "execution_count": 22,
   "id": "17e5b5be-dae8-4297-a2d9-fbd85b47dd33",
   "metadata": {},
   "outputs": [
    {
     "name": "stdout",
     "output_type": "stream",
     "text": [
      " * sqlite:///hr_database.db\n",
      "Done.\n"
     ]
    }
   ],
   "source": [
    "# Query the hr_dataset table using the %sql magic command\n",
    "result = %sql SELECT * FROM hr_dataset\n",
    "\n",
    "# Convert the result to a DataFrame\n",
    "df = result.DataFrame()\n",
    "\n",
    "# Specify the CSV file path\n",
    "csv_file_path = 'hr_dataset.csv'\n",
    "\n",
    "# Export the DataFrame to a CSV file\n",
    "df.to_csv(csv_file_path, index=False)"
   ]
  }
 ],
 "metadata": {
  "kernelspec": {
   "display_name": "Python 3 (ipykernel)",
   "language": "python",
   "name": "python3"
  },
  "language_info": {
   "codemirror_mode": {
    "name": "ipython",
    "version": 3
   },
   "file_extension": ".py",
   "mimetype": "text/x-python",
   "name": "python",
   "nbconvert_exporter": "python",
   "pygments_lexer": "ipython3",
   "version": "3.10.7"
  }
 },
 "nbformat": 4,
 "nbformat_minor": 5
}
